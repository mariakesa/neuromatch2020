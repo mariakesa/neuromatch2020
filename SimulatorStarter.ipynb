{
 "cells": [
  {
   "cell_type": "code",
   "execution_count": 3,
   "metadata": {},
   "outputs": [],
   "source": [
    "import numpy as np"
   ]
  },
  {
   "cell_type": "code",
   "execution_count": 31,
   "metadata": {},
   "outputs": [],
   "source": [
    "class DataNode():\n",
    "    def __init__(self, activity_patterns):\n",
    "        self.n_neurons=activity_patterns.shape[0]\n",
    "        self.activity_patterns=activity_patterns\n",
    "        \n",
    "class SimuNode():\n",
    "    def __init__(self,n_neurons):\n",
    "        self.n_neurons=n_neurons\n",
    "        \n",
    "class Synapse():\n",
    "    def __init__(self,pre_synaptic_node, post_synaptic_node,syn_type='exc',plasticity=None):\n",
    "        self.pre_synaptic_node=pre_synaptic_node\n",
    "        self.post_synaptic_node=post_synaptic_node\n",
    "        self.syn_type=syn_type\n",
    "        if plasticity=='BCM':\n",
    "            self.theta_BCM = 0\n",
    "            self.theta_BCM_dt = .001\n",
    "            self.BCM_target = 5000.0\n",
    "            self.alpha = 0.01\n",
    "        \n",
    "    def connect(self):\n",
    "        row_dim=self.pre_synaptic_node.n_neurons\n",
    "        col_dim=self.post_synaptic_node.n_neurons\n",
    "        k=7.5\n",
    "        theta=1.0\n",
    "        if self.syn_type=='inh':\n",
    "            self.syn_weights=-np.random.gamma(shape=k,scale=theta,size=(col_dim,row_dim))\n",
    "            #self.syn_weights=-np.random.normal(loc=0,size=(col_dim,row_dim))\n",
    "        elif self.syn_type=='exc':\n",
    "            self.syn_weights=np.random.gamma(shape=k,scale=theta,size=(col_dim,row_dim))\n",
    "            \n",
    "    def learn(self,pre_syn_activities,post_syn_activities):\n",
    "        if plasticity=='BCM':\n",
    "            self._update_weights_BCM(pre_syn_activities,post_syn_activities)\n",
    "            self._update_BCM_threshold(post_syn_activities)\n",
    "        \n",
    "    def _update_weights_BCM(self,pre_syn_activities,post_syn_activities):\n",
    "        print('W before',self.syn_weights.shape)\n",
    "        #print('syn',pre_syn_activity_pattern.reshape(9479,1)@post_syn_activity_pattern.reshape(1,2))\n",
    "        self.syn_weights+= self.alpha*pre_syn_activities@post_syn_activities@(post_syn_activity_pattern-self.theta_BCM)\n",
    "        print('W after',self.syn_weights.shape)\n",
    "        \n",
    "    def _update_BCM_threshold(self,activity_pattern):\n",
    "        self.theta_BCM += self.theta_BCM_dt*((activity_pattern/self.BCM_target)*activity_pattern - self.theta_BCM)\n",
    "        \n",
    "class Simulate():\n",
    "    def __init__(self,init_dict,data):\n",
    "        self.init_dict=init_dict\n",
    "        self.connectivity_graph=self.init_dict['connectivity_graph']\n",
    "        self.node_classification=self.init_dict['node_classification']\n",
    "        self.node_ns=self.init_dict['node_ns']\n",
    "        self.data=data\n",
    "        self.data_dict={}\n",
    "        self.sim_dict={}\n",
    "        dat_ind=0\n",
    "        #exc_dat_ind=0\n",
    "        sim_ind=0\n",
    "        #exc_sim_ind=0\n",
    "        self.prev_timepoint=[]\n",
    "        for j in range(len(self.node_classification)):\n",
    "            if self.node_classification[j]=='data_inh':\n",
    "                self.data_dict[j]=dat_ind\n",
    "                dat_ind+=1\n",
    "            if self.node_classification[j]=='data_exc':\n",
    "                self.data_dict[j]=dat_ind\n",
    "                dat_ind+=1\n",
    "            if self.node_classification[j]=='simulated_exc':\n",
    "                self.sim_dict[j]=sim_ind\n",
    "                self.prev_timepoint.append(np.zeros(self.node_ns[j],))\n",
    "                sim_ind+=1\n",
    "            if self.node_classification[j]=='simulated_inh':\n",
    "                self.sim_dict[j]=sim_ind\n",
    "                self.prev_timepoint.append(np.zeros(self.node_ns[j],))\n",
    "                sim_ind+=1\n",
    "        \n",
    "    def _connect(self):\n",
    "        node_lst=[]\n",
    "        for node_ind,node in enumerate(self.node_classification):\n",
    "            print(node)\n",
    "            if node=='simulated_inh':\n",
    "                node_lst.append(SimuNode(self.node_ns[node_ind]))\n",
    "            if node=='simulated_exc':\n",
    "                node_lst.append(SimuNode(self.node_ns[node_ind]))\n",
    "            if node=='data_inh':\n",
    "                ind=self.data_dict[node_ind]\n",
    "                node_lst.append(DataNode(self.data[ind]))\n",
    "            if node=='data_exc':\n",
    "                ind=self.data_dict[node_ind]\n",
    "                node_lst.append(DataNode(self.data[ind]))\n",
    "        self.syn_dict_pre={}\n",
    "        self.syn_dict_post={}\n",
    "        i=0\n",
    "        self.syn_lst=[]\n",
    "        for pre in range(0,self.connectivity_graph.shape[0]):\n",
    "            for post in range(0,self.connectivity_graph.shape[1]):\n",
    "                if self.connectivity_graph[pre,post]==1:\n",
    "                    if node_classification[pre][-3:]=='exc':\n",
    "                        syn_type='exc'\n",
    "                    elif node_classification[pre][-3:]=='inh':\n",
    "                        syn_type='inh'\n",
    "                    #Synapses cannot exist between data nodes, ensure that!\n",
    "                    syn=Synapse(node_lst[pre],node_lst[post],syn_type)\n",
    "                    syn.connect()\n",
    "                    self.syn_dict_pre[i]=pre\n",
    "                    self.syn_dict_post[i]=post\n",
    "                    self.syn_lst.append(syn)\n",
    "                    i+=1\n",
    "        \n",
    "    def one_step(self,t):\n",
    "        self._connect()\n",
    "        sim_one_t=[]\n",
    "        nodes_to_update=[]\n",
    "        nodes_dims=[]\n",
    "        for i,node in enumerate(self.node_classification):\n",
    "            if node[:3]=='sim':\n",
    "                nodes_to_update.append(i)\n",
    "                nodes_dims.append(self.node_ns[i])\n",
    "        for i,node in enumerate(nodes_to_update):\n",
    "            inds=self.connectivity_graph[:,i].flatten()\n",
    "            weights_stack=np.zeros((nodes_dims[i],1))\n",
    "            act_stack=np.zeros((1,))\n",
    "            for syn_ind,syn in enumerate(self.syn_lst):\n",
    "                if self.syn_dict_post[syn_ind]==node:\n",
    "                    pre_ind=self.syn_dict_pre[syn_ind]\n",
    "                    weights_stack=np.hstack((weights_stack,syn.syn_weights))\n",
    "                    act_stack=np.hstack((act_stack,data[pre_ind][:,t].flatten()))\n",
    "            weights_stack=weights_stack[:,1:]\n",
    "            act_stack=act_stack[1:]\n",
    "            activation=-self.prev_timepoint[i]+weights_stack@act_stack\n",
    "            self.prev_timepoint[i]=activation\n",
    "            print('activation',activation)\n",
    "\n",
    "    def simulate(self):\n",
    "        for t in range(0,10):\n",
    "            self.one_step(t)\n",
    "            \n",
    "        \n",
    "            \n",
    "        \n",
    "        "
   ]
  },
  {
   "cell_type": "code",
   "execution_count": 33,
   "metadata": {
    "scrolled": true
   },
   "outputs": [
    {
     "name": "stdout",
     "output_type": "stream",
     "text": [
      "data_exc\n",
      "data_inh\n",
      "simulated_exc\n",
      "activation [283094.27179213 264534.46562955 285748.04894221 267665.66199399]\n",
      "data_exc\n",
      "data_inh\n",
      "simulated_exc\n",
      "activation [ 6153.08776438 21430.67898981 -4034.10315616 30761.92483544]\n",
      "data_exc\n",
      "data_inh\n",
      "simulated_exc\n",
      "activation [252487.79243391 235105.66151673 258020.25465777 200558.14723478]\n",
      "data_exc\n",
      "data_inh\n",
      "simulated_exc\n",
      "activation [-148169.47179039 -130829.59649556 -146274.46930121  -92746.39285298]\n",
      "data_exc\n",
      "data_inh\n",
      "simulated_exc\n",
      "activation [279649.26707198 245478.24720172 275948.66214463 217294.67571441]\n",
      "data_exc\n",
      "data_inh\n",
      "simulated_exc\n",
      "activation [-34425.14856744   2122.19094801  -6299.35568191  48849.78200224]\n",
      "data_exc\n",
      "data_inh\n",
      "simulated_exc\n",
      "activation [333152.31431745 281048.9770522  292193.97347704 260219.1392964 ]\n",
      "data_exc\n",
      "data_inh\n",
      "simulated_exc\n",
      "activation [-209869.37806377 -157363.56782638 -163903.13452516 -131400.36646018]\n",
      "data_exc\n",
      "data_inh\n",
      "simulated_exc\n",
      "activation [346076.33049198 289461.69251646 293821.44647705 261128.04779584]\n",
      "data_exc\n",
      "data_inh\n",
      "simulated_exc\n",
      "activation [-235050.39607759 -176216.30724873 -184881.70718598 -146859.87965111]\n"
     ]
    }
   ],
   "source": [
    "node_classification=['data_exc','data_inh','simulated_exc']\n",
    "connectivity_graph=np.array([[0,0,1],[0,0,1],[0,0,0]])\n",
    "node_ns=[exc_dat.shape[0],inh_dat.shape[0],4]\n",
    "data=[exc_dat,inh_dat]\n",
    "\n",
    "init_dict={'node_classification':node_classification,'connectivity_graph':connectivity_graph,'node_ns':node_ns}\n",
    "run=Simulate(init_dict,data).simulate()\n"
   ]
  },
  {
   "cell_type": "code",
   "execution_count": null,
   "metadata": {},
   "outputs": [],
   "source": []
  },
  {
   "cell_type": "code",
   "execution_count": 6,
   "metadata": {},
   "outputs": [
    {
     "name": "stdout",
     "output_type": "stream",
     "text": [
      "Shape of the data matrix, neurons by timepoints: (18795, 30766)\n"
     ]
    }
   ],
   "source": [
    "data_path='/media/maria/DATA1/Documents/data_for_suite2p/TX39_total/'\n",
    "dt=1\n",
    "spks= np.load(data_path+'spks.npy')\n",
    "print('Shape of the data matrix, neurons by timepoints:',spks.shape)\n",
    "iframe = np.load(data_path+'iframe.npy') # iframe[n] is the microscope frame for the image frame n\n",
    "ivalid = iframe+dt<spks.shape[-1] # remove timepoints outside the valid time range\n",
    "iframe = iframe[ivalid]\n",
    "S = spks[:, iframe+dt]\n",
    "#U=np.load('U.npy')"
   ]
  },
  {
   "cell_type": "code",
   "execution_count": 7,
   "metadata": {},
   "outputs": [],
   "source": [
    "U=np.load('U.npy')"
   ]
  },
  {
   "cell_type": "code",
   "execution_count": 9,
   "metadata": {},
   "outputs": [],
   "source": [
    "#del spks\n",
    "del S"
   ]
  },
  {
   "cell_type": "code",
   "execution_count": 8,
   "metadata": {},
   "outputs": [],
   "source": [
    "stim_ens_inds=np.nonzero(U[:,13])[0]\n",
    "exc_dat=S[stim_ens_inds]\n",
    "inh_dat=S[np.random.randint(0,S.shape[0],size=100),:]"
   ]
  },
  {
   "cell_type": "code",
   "execution_count": 12,
   "metadata": {},
   "outputs": [
    {
     "name": "stdout",
     "output_type": "stream",
     "text": [
      "(642, 30560)\n"
     ]
    }
   ],
   "source": [
    "print(exc_dat.shape)"
   ]
  },
  {
   "cell_type": "code",
   "execution_count": 9,
   "metadata": {},
   "outputs": [],
   "source": [
    "inh_dat=S[np.random.randint(0,S.shape[0],size=10),:]\n",
    "exc_dat=S[np.random.randint(0,S.shape[0],size=100),:]"
   ]
  },
  {
   "cell_type": "code",
   "execution_count": 7,
   "metadata": {},
   "outputs": [
    {
     "data": {
      "text/plain": [
       "array([63, 86, 49,  1, 55, 81,  2, 97, 27, 53, 32, 11, 35, 41, 51, 93, 31,\n",
       "       52, 28, 89, 70, 17, 46, 85, 37, 49, 70, 78, 57, 91, 47, 70, 50, 60,\n",
       "       87, 81, 76, 39,  3, 62, 64, 70,  2, 72, 73, 72, 71, 89,  5, 73, 53,\n",
       "       47,  8,  6, 33, 33, 23, 79, 30, 72, 60, 43, 84, 58, 20, 13, 93, 48,\n",
       "       71, 90, 29, 88, 77, 26, 48, 82, 65, 51, 60, 22,  0, 96,  1, 53, 21,\n",
       "       58, 34, 58, 59, 24, 31, 11, 20, 25, 43, 12, 11, 76, 93, 38])"
      ]
     },
     "execution_count": 7,
     "metadata": {},
     "output_type": "execute_result"
    }
   ],
   "source": [
    "np.random.randint(0,100,size=100)"
   ]
  }
 ],
 "metadata": {
  "kernelspec": {
   "display_name": "Python 3",
   "language": "python",
   "name": "python3"
  },
  "language_info": {
   "codemirror_mode": {
    "name": "ipython",
    "version": 3
   },
   "file_extension": ".py",
   "mimetype": "text/x-python",
   "name": "python",
   "nbconvert_exporter": "python",
   "pygments_lexer": "ipython3",
   "version": "3.7.4"
  }
 },
 "nbformat": 4,
 "nbformat_minor": 4
}
