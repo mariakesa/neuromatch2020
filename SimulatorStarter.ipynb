{
 "cells": [
  {
   "cell_type": "code",
   "execution_count": 2,
   "metadata": {},
   "outputs": [],
   "source": [
    "import numpy as np"
   ]
  },
  {
   "cell_type": "code",
   "execution_count": 14,
   "metadata": {},
   "outputs": [],
   "source": [
    "class DataNode():\n",
    "    def __init__(self, activity_patterns):\n",
    "        self.n_neurons=activity_patterns.shape[0]\n",
    "        self.activity_patterns=activity_patterns\n",
    "        \n",
    "class SimuNode():\n",
    "    def __init__(self,n_neurons):\n",
    "        self.n_neurons=n_neurons\n",
    "        \n",
    "class Synapse():\n",
    "    def __init__(self,pre_synaptic_node, post_synaptic_node,syn_type='exc',plasticity=None):\n",
    "        self.pre_synaptic_node=pre_synaptic_node\n",
    "        self.post_synaptic_node=post_synaptic_node\n",
    "        self.syn_type=syn_type\n",
    "        if plasticity=='BCM':\n",
    "            self.theta_BCM = 0\n",
    "            self.theta_BCM_dt = .001\n",
    "            self.BCM_target = 5000.0\n",
    "            self.alpha = 0.01\n",
    "        \n",
    "    def connect(self):\n",
    "        row_dim=self.pre_synaptic_node.n_neurons\n",
    "        col_dim=self.post_synaptic_node.n_neurons\n",
    "        k=7.5\n",
    "        theta=1.0\n",
    "        if self.syn_type=='inh':\n",
    "            self.syn_weights=-np.random.gamma(shape=k,scale=theta,size=(col_dim,row_dim))\n",
    "            #self.syn_weights=-np.random.normal(loc=0,size=(col_dim,row_dim))\n",
    "        elif self.syn_type=='exc':\n",
    "            self.syn_weights=np.random.gamma(shape=k,scale=theta,size=(col_dim,row_dim))\n",
    "            \n",
    "    def learn(self,pre_syn_activities,post_syn_activities):\n",
    "        if plasticity=='BCM':\n",
    "            self._update_weights_BCM(pre_syn_activities,post_syn_activities)\n",
    "            self._update_BCM_threshold(post_syn_activities)\n",
    "        \n",
    "    def _update_weights_BCM(self,pre_syn_activities,post_syn_activities):\n",
    "        print('W before',self.syn_weights.shape)\n",
    "        #print('syn',pre_syn_activity_pattern.reshape(9479,1)@post_syn_activity_pattern.reshape(1,2))\n",
    "        self.syn_weights+= self.alpha*pre_syn_activities@post_syn_activities@(post_syn_activity_pattern-self.theta_BCM)\n",
    "        print('W after',self.syn_weights.shape)\n",
    "        \n",
    "    def _update_BCM_threshold(self,activity_pattern):\n",
    "        self.theta_BCM += self.theta_BCM_dt*((activity_pattern/self.BCM_target)*activity_pattern - self.theta_BCM)\n",
    "        \n",
    "class Simulate():\n",
    "    def __init__(self,init_dict,data):\n",
    "        self.init_dict=init_dict\n",
    "        self.connectivity_graph=self.init_dict['connectivity_graph']\n",
    "        self.node_classification=self.init_dict['node_classification']\n",
    "        self.node_ns=self.init_dict['node_ns']\n",
    "        self.data=data\n",
    "        self.data_dict={}\n",
    "        inh_dat_ind=0\n",
    "        exc_dat_ind=0\n",
    "        for j in range(len(self.node_classification)):\n",
    "            if node=='data_inh':\n",
    "                self.data_dict[j]=dat_ind\n",
    "                inh_dat_ind+=1\n",
    "            if node=='data_exc':\n",
    "                self.data_dict[j]=exc_ind\n",
    "                exc_dat_ind+=1\n",
    "        \n",
    "    def _connect(self):\n",
    "        for node_ind,node in enumerate(self.node_classification):\n",
    "            print(node)\n",
    "            if node=='simulated_inh':\n",
    "                node_lst.append(SimuNode(self.node_ns[node_ind]))\n",
    "            if node=='simulated_exc':\n",
    "                node_lst.append(SimuNode(self.node_ns[node_ind]))\n",
    "            if node=='data_inh':\n",
    "                ind=data_inds[node_ind]\n",
    "                node_lst.append(DataNode(data[self.data[ind]]))\n",
    "            if node=='data_exc':\n",
    "                ind=data_inds[node_ind]\n",
    "                node_lst.append(data[self.data[ind]])\n",
    "        synapse_lst=[]\n",
    "        for pre in range(0,self.connectivity_graph.shape[0]):\n",
    "            for post in range(0,self.connectivity_graph.shape[1]):\n",
    "                if self.connectivity_graph[pre,post]==1:\n",
    "                    if node_classification[pre][-3:]=='exc':\n",
    "                        syn_type='exc'\n",
    "                    elif node_classification[pre][-3:]=='inh':\n",
    "                        syn_type='inh'\n",
    "                    print(syn_type)\n",
    "                    syn=Synapse(node_lst[pre],node_lst[post],syn_type)\n",
    "                    syn.connect()\n",
    "                    synapse_lst.append(syn)\n",
    "        \n",
    "   # def run(self):\n",
    "        \n",
    "        \n",
    "        "
   ]
  },
  {
   "cell_type": "code",
   "execution_count": 15,
   "metadata": {},
   "outputs": [
    {
     "ename": "NameError",
     "evalue": "name 'node' is not defined",
     "output_type": "error",
     "traceback": [
      "\u001b[0;31m---------------------------------------------------------------------------\u001b[0m",
      "\u001b[0;31mNameError\u001b[0m                                 Traceback (most recent call last)",
      "\u001b[0;32m<ipython-input-15-e292ed121a3c>\u001b[0m in \u001b[0;36m<module>\u001b[0;34m\u001b[0m\n\u001b[1;32m      5\u001b[0m \u001b[0;34m\u001b[0m\u001b[0m\n\u001b[1;32m      6\u001b[0m \u001b[0minit_dict\u001b[0m\u001b[0;34m=\u001b[0m\u001b[0;34m{\u001b[0m\u001b[0;34m'node_classification'\u001b[0m\u001b[0;34m:\u001b[0m\u001b[0mnode_classification\u001b[0m\u001b[0;34m,\u001b[0m\u001b[0;34m'connectivity_graph'\u001b[0m\u001b[0;34m:\u001b[0m\u001b[0mconnectivity_graph\u001b[0m\u001b[0;34m,\u001b[0m\u001b[0;34m'node_ns'\u001b[0m\u001b[0;34m:\u001b[0m\u001b[0mnode_ns\u001b[0m\u001b[0;34m}\u001b[0m\u001b[0;34m\u001b[0m\u001b[0;34m\u001b[0m\u001b[0m\n\u001b[0;32m----> 7\u001b[0;31m \u001b[0mrun\u001b[0m\u001b[0;34m=\u001b[0m\u001b[0mSimulate\u001b[0m\u001b[0;34m(\u001b[0m\u001b[0minit_dict\u001b[0m\u001b[0;34m,\u001b[0m\u001b[0mdata\u001b[0m\u001b[0;34m)\u001b[0m\u001b[0;34m\u001b[0m\u001b[0;34m\u001b[0m\u001b[0m\n\u001b[0m",
      "\u001b[0;32m<ipython-input-14-e62b751c07bf>\u001b[0m in \u001b[0;36m__init__\u001b[0;34m(self, init_dict, data)\u001b[0m\n\u001b[1;32m     55\u001b[0m         \u001b[0mexc_dat_ind\u001b[0m\u001b[0;34m=\u001b[0m\u001b[0;36m0\u001b[0m\u001b[0;34m\u001b[0m\u001b[0;34m\u001b[0m\u001b[0m\n\u001b[1;32m     56\u001b[0m         \u001b[0;32mfor\u001b[0m \u001b[0mj\u001b[0m \u001b[0;32min\u001b[0m \u001b[0mrange\u001b[0m\u001b[0;34m(\u001b[0m\u001b[0mlen\u001b[0m\u001b[0;34m(\u001b[0m\u001b[0mself\u001b[0m\u001b[0;34m.\u001b[0m\u001b[0mnode_classification\u001b[0m\u001b[0;34m)\u001b[0m\u001b[0;34m)\u001b[0m\u001b[0;34m:\u001b[0m\u001b[0;34m\u001b[0m\u001b[0;34m\u001b[0m\u001b[0m\n\u001b[0;32m---> 57\u001b[0;31m             \u001b[0;32mif\u001b[0m \u001b[0mnode\u001b[0m\u001b[0;34m==\u001b[0m\u001b[0;34m'data_inh'\u001b[0m\u001b[0;34m:\u001b[0m\u001b[0;34m\u001b[0m\u001b[0;34m\u001b[0m\u001b[0m\n\u001b[0m\u001b[1;32m     58\u001b[0m                 \u001b[0mself\u001b[0m\u001b[0;34m.\u001b[0m\u001b[0mdata_dict\u001b[0m\u001b[0;34m[\u001b[0m\u001b[0mj\u001b[0m\u001b[0;34m]\u001b[0m\u001b[0;34m=\u001b[0m\u001b[0mdat_ind\u001b[0m\u001b[0;34m\u001b[0m\u001b[0;34m\u001b[0m\u001b[0m\n\u001b[1;32m     59\u001b[0m                 \u001b[0minh_dat_ind\u001b[0m\u001b[0;34m+=\u001b[0m\u001b[0;36m1\u001b[0m\u001b[0;34m\u001b[0m\u001b[0;34m\u001b[0m\u001b[0m\n",
      "\u001b[0;31mNameError\u001b[0m: name 'node' is not defined"
     ]
    }
   ],
   "source": [
    "node_classification=['data_exc','data_inh','simulated_exc']\n",
    "connectivity_graph=np.array([[0,0,1],[0,0,1],[0,0,1]])\n",
    "node_ns=[100,10,2]\n",
    "data=[exc_dat,inh_dat]\n",
    "\n",
    "init_dict={'node_classification':node_classification,'connectivity_graph':connectivity_graph,'node_ns':node_ns}\n",
    "run=Simulate(init_dict,data)"
   ]
  },
  {
   "cell_type": "code",
   "execution_count": 6,
   "metadata": {},
   "outputs": [
    {
     "name": "stdout",
     "output_type": "stream",
     "text": [
      "Shape of the data matrix, neurons by timepoints: (18795, 30766)\n"
     ]
    }
   ],
   "source": [
    "data_path='/media/maria/DATA1/Documents/data_for_suite2p/TX39_total/'\n",
    "dt=1\n",
    "spks= np.load(data_path+'spks.npy')\n",
    "print('Shape of the data matrix, neurons by timepoints:',spks.shape)\n",
    "iframe = np.load(data_path+'iframe.npy') # iframe[n] is the microscope frame for the image frame n\n",
    "ivalid = iframe+dt<spks.shape[-1] # remove timepoints outside the valid time range\n",
    "iframe = iframe[ivalid]\n",
    "S = spks[:, iframe+dt]\n",
    "#U=np.load('U.npy')"
   ]
  },
  {
   "cell_type": "code",
   "execution_count": 11,
   "metadata": {},
   "outputs": [],
   "source": [
    "#del spks\n",
    "del S"
   ]
  },
  {
   "cell_type": "code",
   "execution_count": 9,
   "metadata": {},
   "outputs": [],
   "source": [
    "inh_dat=S[np.random.randint(0,S.shape[0],size=10),:]\n",
    "exc_dat=S[np.random.randint(0,S.shape[0],size=100),:]"
   ]
  },
  {
   "cell_type": "code",
   "execution_count": 7,
   "metadata": {},
   "outputs": [
    {
     "data": {
      "text/plain": [
       "array([63, 86, 49,  1, 55, 81,  2, 97, 27, 53, 32, 11, 35, 41, 51, 93, 31,\n",
       "       52, 28, 89, 70, 17, 46, 85, 37, 49, 70, 78, 57, 91, 47, 70, 50, 60,\n",
       "       87, 81, 76, 39,  3, 62, 64, 70,  2, 72, 73, 72, 71, 89,  5, 73, 53,\n",
       "       47,  8,  6, 33, 33, 23, 79, 30, 72, 60, 43, 84, 58, 20, 13, 93, 48,\n",
       "       71, 90, 29, 88, 77, 26, 48, 82, 65, 51, 60, 22,  0, 96,  1, 53, 21,\n",
       "       58, 34, 58, 59, 24, 31, 11, 20, 25, 43, 12, 11, 76, 93, 38])"
      ]
     },
     "execution_count": 7,
     "metadata": {},
     "output_type": "execute_result"
    }
   ],
   "source": [
    "np.random.randint(0,100,size=100)"
   ]
  }
 ],
 "metadata": {
  "kernelspec": {
   "display_name": "Python 3",
   "language": "python",
   "name": "python3"
  },
  "language_info": {
   "codemirror_mode": {
    "name": "ipython",
    "version": 3
   },
   "file_extension": ".py",
   "mimetype": "text/x-python",
   "name": "python",
   "nbconvert_exporter": "python",
   "pygments_lexer": "ipython3",
   "version": "3.7.4"
  }
 },
 "nbformat": 4,
 "nbformat_minor": 4
}
