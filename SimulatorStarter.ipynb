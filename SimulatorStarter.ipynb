{
 "cells": [
  {
   "cell_type": "code",
   "execution_count": 4,
   "metadata": {},
   "outputs": [],
   "source": [
    "import numpy as np"
   ]
  },
  {
   "cell_type": "code",
   "execution_count": 133,
   "metadata": {},
   "outputs": [],
   "source": [
    "class DataNode():\n",
    "    def __init__(self, activity_patterns):\n",
    "        self.n_neurons=activity_patterns.shape[0]\n",
    "        self.activity_patterns=activity_patterns\n",
    "        \n",
    "class SimuNode():\n",
    "    def __init__(self,n_neurons):\n",
    "        self.n_neurons=n_neurons\n",
    "        \n",
    "class Synapse():\n",
    "    def __init__(self,pre_synaptic_node, post_synaptic_node,syn_type='exc',plasticity=None):\n",
    "        self.pre_synaptic_node=pre_synaptic_node\n",
    "        self.post_synaptic_node=post_synaptic_node\n",
    "        self.syn_type=syn_type\n",
    "        if plasticity=='BCM':\n",
    "            self.theta_BCM = 0\n",
    "            self.theta_BCM_dt = .001\n",
    "            self.BCM_target = 5000.0\n",
    "            self.alpha = 0.01\n",
    "        \n",
    "    def connect(self):\n",
    "        row_dim=self.pre_synaptic_node.n_neurons\n",
    "        col_dim=self.post_synaptic_node.n_neurons\n",
    "        k=7.5\n",
    "        theta=1.0\n",
    "        if self.syn_type=='inh':\n",
    "            self.syn_weights=-np.random.gamma(shape=k,scale=theta,size=(col_dim,row_dim))\n",
    "            #self.syn_weights=-np.random.normal(loc=0,size=(col_dim,row_dim))\n",
    "        elif self.syn_type=='exc':\n",
    "            self.syn_weights=np.random.gamma(shape=k,scale=theta,size=(col_dim,row_dim))\n",
    "            \n",
    "    def learn(self,pre_syn_activities,post_syn_activities):\n",
    "        if plasticity=='BCM':\n",
    "            self._update_weights_BCM(pre_syn_activities,post_syn_activities)\n",
    "            self._update_BCM_threshold(post_syn_activities)\n",
    "        \n",
    "    def _update_weights_BCM(self,pre_syn_activities,post_syn_activities):\n",
    "        print('W before',self.syn_weights.shape)\n",
    "        #print('syn',pre_syn_activity_pattern.reshape(9479,1)@post_syn_activity_pattern.reshape(1,2))\n",
    "        self.syn_weights+= self.alpha*pre_syn_activities@post_syn_activities@(post_syn_activity_pattern-self.theta_BCM)\n",
    "        print('W after',self.syn_weights.shape)\n",
    "        \n",
    "    def _update_BCM_threshold(self,activity_pattern):\n",
    "        self.theta_BCM += self.theta_BCM_dt*((activity_pattern/self.BCM_target)*activity_pattern - self.theta_BCM)\n",
    "        \n",
    "class Simulate():\n",
    "    def __init__(self,init_dict,data):\n",
    "        self.init_dict=init_dict\n",
    "        self.connectivity_graph=self.init_dict['connectivity_graph']\n",
    "        self.node_classification=self.init_dict['node_classification']\n",
    "        self.node_ns=self.init_dict['node_ns']\n",
    "        self.data=data\n",
    "        self.data_dict={}\n",
    "        self.sim_dict={}\n",
    "        dat_ind=0\n",
    "        #exc_dat_ind=0\n",
    "        sim_ind=0\n",
    "        #exc_sim_ind=0\n",
    "        for j in range(len(self.node_classification)):\n",
    "            if self.node_classification[j]=='data_inh':\n",
    "                self.data_dict[j]=dat_ind\n",
    "                dat_ind+=1\n",
    "            if self.node_classification[j]=='data_exc':\n",
    "                self.data_dict[j]=dat_ind\n",
    "                dat_ind+=1\n",
    "            if self.node_classification[j]=='simulated_exc':\n",
    "                self.sim_dict[j]=sim_ind\n",
    "                sim_ind+=1\n",
    "            if self.node_classification[j]=='simulated_inh':\n",
    "                self.sim_dict[j]=sim_ind\n",
    "                sim_ind+=1\n",
    "        \n",
    "    def _connect(self):\n",
    "        node_lst=[]\n",
    "        for node_ind,node in enumerate(self.node_classification):\n",
    "            print(node)\n",
    "            if node=='simulated_inh':\n",
    "                node_lst.append(SimuNode(self.node_ns[node_ind]))\n",
    "            if node=='simulated_exc':\n",
    "                node_lst.append(SimuNode(self.node_ns[node_ind]))\n",
    "            if node=='data_inh':\n",
    "                ind=self.data_dict[node_ind]\n",
    "                print('!!',self.data[ind].shape)\n",
    "                node_lst.append(DataNode(self.data[ind]))\n",
    "            if node=='data_exc':\n",
    "                ind=self.data_dict[node_ind]\n",
    "                node_lst.append(DataNode(self.data[ind]))\n",
    "        self.syn_dict_pre={}\n",
    "        self.syn_dict_post={}\n",
    "        i=0\n",
    "        self.syn_lst=[]\n",
    "        for pre in range(0,self.connectivity_graph.shape[0]):\n",
    "            for post in range(0,self.connectivity_graph.shape[1]):\n",
    "                if self.connectivity_graph[pre,post]==1:\n",
    "                    if node_classification[pre][-3:]=='exc':\n",
    "                        syn_type='exc'\n",
    "                    elif node_classification[pre][-3:]=='inh':\n",
    "                        syn_type='inh'\n",
    "                    #Synapses cannot exist between data nodes, ensure that!\n",
    "                    syn=Synapse(node_lst[pre],node_lst[post],syn_type)\n",
    "                    syn.connect()\n",
    "                    self.syn_dict_pre[i]=pre\n",
    "                    self.syn_dict_post[i]=post\n",
    "                    self.syn_lst.append(syn)\n",
    "                    i+=1\n",
    "        \n",
    "    def one_step(self,t):\n",
    "        self._connect()\n",
    "        sim_one_t=[]\n",
    "        sim_vecs=np.zeros(2,)\n",
    "        nodes_to_update=[]\n",
    "        for i,node in enumerate(self.node_classification):\n",
    "            if node[:3]=='sim':\n",
    "                nodes_to_update.append(i)\n",
    "        for i,node in enumerate(nodes_to_update):\n",
    "            inds=self.connectivity_graph[:,i].flatten()\n",
    "            weights_stack=np.zeros((2,1))\n",
    "            act_stack=np.zeros((1,))\n",
    "            for syn_ind,syn in enumerate(self.syn_lst):\n",
    "                if self.syn_dict_post[syn_ind]==node:\n",
    "                    pre_ind=self.syn_dict_pre[syn_ind]\n",
    "                    print('pre',pre_ind)\n",
    "                    weights_stack=np.hstack((weights_stack,syn.syn_weights))\n",
    "                    print('dat',data[pre_ind].shape)\n",
    "                    act_stack=np.hstack((act_stack,data[pre_ind][:,t].flatten()))\n",
    "            weights_stack=weights_stack[:,1:]\n",
    "            #act_stack=act_stack[1:,:]\n",
    "            post=sim_vecs\n",
    "            print('weihts',weights_stack.shape)\n",
    "            print('shp',np.array(self.data).shape)\n",
    "            print(data)\n",
    "            activation=-post+weights_stack@act_stack[:,t]\n",
    "            print('activation',activation)\n",
    "        '''\n",
    "        for i in self.syn_lst:\n",
    "            print(str(i),i.syn_weights.shape)\n",
    "        print(self.syn_lst)\n",
    "        print(self.syn_dict_pre)\n",
    "        for syn_ind,syn in enumerate(self.syn_lst):\n",
    "            pre_ind=self.syn_dict_pre[syn_ind]\n",
    "            post_ind=self.syn_dict_post[syn_ind]\n",
    "            post=sim_vecs\n",
    "            activation=-post+syn.syn_weights@self.data[pre_ind][:,t]\n",
    "            print('act',activation.shape)\n",
    "            print(activation)\n",
    "        '''\n",
    "            \n",
    "        \n",
    "            \n",
    "        \n",
    "        "
   ]
  },
  {
   "cell_type": "code",
   "execution_count": 134,
   "metadata": {
    "scrolled": true
   },
   "outputs": [
    {
     "name": "stdout",
     "output_type": "stream",
     "text": [
      "data_exc\n",
      "data_inh\n",
      "!! (100, 30560)\n",
      "simulated_exc\n",
      "pre 0\n",
      "dat (642, 30560)\n"
     ]
    },
    {
     "ename": "ValueError",
     "evalue": "all the input array dimensions for the concatenation axis must match exactly, but along dimension 1, the array at index 0 has size 1 and the array at index 1 has size 642",
     "output_type": "error",
     "traceback": [
      "\u001b[0;31m---------------------------------------------------------------------------\u001b[0m",
      "\u001b[0;31mValueError\u001b[0m                                Traceback (most recent call last)",
      "\u001b[0;32m<ipython-input-134-df48966d9a6e>\u001b[0m in \u001b[0;36m<module>\u001b[0;34m\u001b[0m\n\u001b[1;32m      5\u001b[0m \u001b[0;34m\u001b[0m\u001b[0m\n\u001b[1;32m      6\u001b[0m \u001b[0minit_dict\u001b[0m\u001b[0;34m=\u001b[0m\u001b[0;34m{\u001b[0m\u001b[0;34m'node_classification'\u001b[0m\u001b[0;34m:\u001b[0m\u001b[0mnode_classification\u001b[0m\u001b[0;34m,\u001b[0m\u001b[0;34m'connectivity_graph'\u001b[0m\u001b[0;34m:\u001b[0m\u001b[0mconnectivity_graph\u001b[0m\u001b[0;34m,\u001b[0m\u001b[0;34m'node_ns'\u001b[0m\u001b[0;34m:\u001b[0m\u001b[0mnode_ns\u001b[0m\u001b[0;34m}\u001b[0m\u001b[0;34m\u001b[0m\u001b[0;34m\u001b[0m\u001b[0m\n\u001b[0;32m----> 7\u001b[0;31m \u001b[0mrun\u001b[0m\u001b[0;34m=\u001b[0m\u001b[0mSimulate\u001b[0m\u001b[0;34m(\u001b[0m\u001b[0minit_dict\u001b[0m\u001b[0;34m,\u001b[0m\u001b[0mdata\u001b[0m\u001b[0;34m)\u001b[0m\u001b[0;34m.\u001b[0m\u001b[0mone_step\u001b[0m\u001b[0;34m(\u001b[0m\u001b[0;36m0\u001b[0m\u001b[0;34m)\u001b[0m\u001b[0;34m\u001b[0m\u001b[0;34m\u001b[0m\u001b[0m\n\u001b[0m",
      "\u001b[0;32m<ipython-input-133-f0d27c73603e>\u001b[0m in \u001b[0;36mone_step\u001b[0;34m(self, t)\u001b[0m\n\u001b[1;32m    123\u001b[0m                     \u001b[0mweights_stack\u001b[0m\u001b[0;34m=\u001b[0m\u001b[0mnp\u001b[0m\u001b[0;34m.\u001b[0m\u001b[0mhstack\u001b[0m\u001b[0;34m(\u001b[0m\u001b[0;34m(\u001b[0m\u001b[0mweights_stack\u001b[0m\u001b[0;34m,\u001b[0m\u001b[0msyn\u001b[0m\u001b[0;34m.\u001b[0m\u001b[0msyn_weights\u001b[0m\u001b[0;34m)\u001b[0m\u001b[0;34m)\u001b[0m\u001b[0;34m\u001b[0m\u001b[0;34m\u001b[0m\u001b[0m\n\u001b[1;32m    124\u001b[0m                     \u001b[0mprint\u001b[0m\u001b[0;34m(\u001b[0m\u001b[0;34m'dat'\u001b[0m\u001b[0;34m,\u001b[0m\u001b[0mdata\u001b[0m\u001b[0;34m[\u001b[0m\u001b[0mpre_ind\u001b[0m\u001b[0;34m]\u001b[0m\u001b[0;34m.\u001b[0m\u001b[0mshape\u001b[0m\u001b[0;34m)\u001b[0m\u001b[0;34m\u001b[0m\u001b[0;34m\u001b[0m\u001b[0m\n\u001b[0;32m--> 125\u001b[0;31m                     \u001b[0mact_stack\u001b[0m\u001b[0;34m=\u001b[0m\u001b[0mnp\u001b[0m\u001b[0;34m.\u001b[0m\u001b[0mvstack\u001b[0m\u001b[0;34m(\u001b[0m\u001b[0;34m(\u001b[0m\u001b[0mact_stack\u001b[0m\u001b[0;34m,\u001b[0m\u001b[0mdata\u001b[0m\u001b[0;34m[\u001b[0m\u001b[0mpre_ind\u001b[0m\u001b[0;34m]\u001b[0m\u001b[0;34m[\u001b[0m\u001b[0;34m:\u001b[0m\u001b[0;34m,\u001b[0m\u001b[0mt\u001b[0m\u001b[0;34m]\u001b[0m\u001b[0;34m.\u001b[0m\u001b[0mflatten\u001b[0m\u001b[0;34m(\u001b[0m\u001b[0;34m)\u001b[0m\u001b[0;34m)\u001b[0m\u001b[0;34m)\u001b[0m\u001b[0;34m\u001b[0m\u001b[0;34m\u001b[0m\u001b[0m\n\u001b[0m\u001b[1;32m    126\u001b[0m             \u001b[0mweights_stack\u001b[0m\u001b[0;34m=\u001b[0m\u001b[0mweights_stack\u001b[0m\u001b[0;34m[\u001b[0m\u001b[0;34m:\u001b[0m\u001b[0;34m,\u001b[0m\u001b[0;36m1\u001b[0m\u001b[0;34m:\u001b[0m\u001b[0;34m]\u001b[0m\u001b[0;34m\u001b[0m\u001b[0;34m\u001b[0m\u001b[0m\n\u001b[1;32m    127\u001b[0m             \u001b[0;31m#act_stack=act_stack[1:,:]\u001b[0m\u001b[0;34m\u001b[0m\u001b[0;34m\u001b[0m\u001b[0;34m\u001b[0m\u001b[0m\n",
      "\u001b[0;32m<__array_function__ internals>\u001b[0m in \u001b[0;36mvstack\u001b[0;34m(*args, **kwargs)\u001b[0m\n",
      "\u001b[0;32m~/anaconda3/lib/python3.7/site-packages/numpy/core/shape_base.py\u001b[0m in \u001b[0;36mvstack\u001b[0;34m(tup)\u001b[0m\n\u001b[1;32m    280\u001b[0m     \u001b[0;32mif\u001b[0m \u001b[0;32mnot\u001b[0m \u001b[0misinstance\u001b[0m\u001b[0;34m(\u001b[0m\u001b[0marrs\u001b[0m\u001b[0;34m,\u001b[0m \u001b[0mlist\u001b[0m\u001b[0;34m)\u001b[0m\u001b[0;34m:\u001b[0m\u001b[0;34m\u001b[0m\u001b[0;34m\u001b[0m\u001b[0m\n\u001b[1;32m    281\u001b[0m         \u001b[0marrs\u001b[0m \u001b[0;34m=\u001b[0m \u001b[0;34m[\u001b[0m\u001b[0marrs\u001b[0m\u001b[0;34m]\u001b[0m\u001b[0;34m\u001b[0m\u001b[0;34m\u001b[0m\u001b[0m\n\u001b[0;32m--> 282\u001b[0;31m     \u001b[0;32mreturn\u001b[0m \u001b[0m_nx\u001b[0m\u001b[0;34m.\u001b[0m\u001b[0mconcatenate\u001b[0m\u001b[0;34m(\u001b[0m\u001b[0marrs\u001b[0m\u001b[0;34m,\u001b[0m \u001b[0;36m0\u001b[0m\u001b[0;34m)\u001b[0m\u001b[0;34m\u001b[0m\u001b[0;34m\u001b[0m\u001b[0m\n\u001b[0m\u001b[1;32m    283\u001b[0m \u001b[0;34m\u001b[0m\u001b[0m\n\u001b[1;32m    284\u001b[0m \u001b[0;34m\u001b[0m\u001b[0m\n",
      "\u001b[0;32m<__array_function__ internals>\u001b[0m in \u001b[0;36mconcatenate\u001b[0;34m(*args, **kwargs)\u001b[0m\n",
      "\u001b[0;31mValueError\u001b[0m: all the input array dimensions for the concatenation axis must match exactly, but along dimension 1, the array at index 0 has size 1 and the array at index 1 has size 642"
     ]
    }
   ],
   "source": [
    "node_classification=['data_exc','data_inh','simulated_exc']\n",
    "connectivity_graph=np.array([[0,0,1],[0,0,1],[0,0,0]])\n",
    "node_ns=[exc_dat.shape[0],inh_dat.shape[0],2]\n",
    "data=[exc_dat,inh_dat]\n",
    "\n",
    "init_dict={'node_classification':node_classification,'connectivity_graph':connectivity_graph,'node_ns':node_ns}\n",
    "run=Simulate(init_dict,data).one_step(0)"
   ]
  },
  {
   "cell_type": "code",
   "execution_count": null,
   "metadata": {},
   "outputs": [],
   "source": []
  },
  {
   "cell_type": "code",
   "execution_count": 8,
   "metadata": {},
   "outputs": [
    {
     "name": "stdout",
     "output_type": "stream",
     "text": [
      "Shape of the data matrix, neurons by timepoints: (18795, 30766)\n"
     ]
    }
   ],
   "source": [
    "data_path='/media/maria/DATA1/Documents/data_for_suite2p/TX39_total/'\n",
    "dt=1\n",
    "spks= np.load(data_path+'spks.npy')\n",
    "print('Shape of the data matrix, neurons by timepoints:',spks.shape)\n",
    "iframe = np.load(data_path+'iframe.npy') # iframe[n] is the microscope frame for the image frame n\n",
    "ivalid = iframe+dt<spks.shape[-1] # remove timepoints outside the valid time range\n",
    "iframe = iframe[ivalid]\n",
    "S = spks[:, iframe+dt]\n",
    "#U=np.load('U.npy')"
   ]
  },
  {
   "cell_type": "code",
   "execution_count": 11,
   "metadata": {},
   "outputs": [],
   "source": [
    "U=np.load('U.npy')"
   ]
  },
  {
   "cell_type": "code",
   "execution_count": 14,
   "metadata": {},
   "outputs": [],
   "source": [
    "#del spks\n",
    "del S"
   ]
  },
  {
   "cell_type": "code",
   "execution_count": 12,
   "metadata": {},
   "outputs": [],
   "source": [
    "stim_ens_inds=np.nonzero(U[:,13])[0]\n",
    "exc_dat=S[stim_ens_inds]\n",
    "inh_dat=S[np.random.randint(0,S.shape[0],size=100),:]"
   ]
  },
  {
   "cell_type": "code",
   "execution_count": 12,
   "metadata": {},
   "outputs": [
    {
     "name": "stdout",
     "output_type": "stream",
     "text": [
      "(642, 30560)\n"
     ]
    }
   ],
   "source": [
    "print(exc_dat.shape)"
   ]
  },
  {
   "cell_type": "code",
   "execution_count": 9,
   "metadata": {},
   "outputs": [],
   "source": [
    "inh_dat=S[np.random.randint(0,S.shape[0],size=10),:]\n",
    "exc_dat=S[np.random.randint(0,S.shape[0],size=100),:]"
   ]
  },
  {
   "cell_type": "code",
   "execution_count": 7,
   "metadata": {},
   "outputs": [
    {
     "data": {
      "text/plain": [
       "array([63, 86, 49,  1, 55, 81,  2, 97, 27, 53, 32, 11, 35, 41, 51, 93, 31,\n",
       "       52, 28, 89, 70, 17, 46, 85, 37, 49, 70, 78, 57, 91, 47, 70, 50, 60,\n",
       "       87, 81, 76, 39,  3, 62, 64, 70,  2, 72, 73, 72, 71, 89,  5, 73, 53,\n",
       "       47,  8,  6, 33, 33, 23, 79, 30, 72, 60, 43, 84, 58, 20, 13, 93, 48,\n",
       "       71, 90, 29, 88, 77, 26, 48, 82, 65, 51, 60, 22,  0, 96,  1, 53, 21,\n",
       "       58, 34, 58, 59, 24, 31, 11, 20, 25, 43, 12, 11, 76, 93, 38])"
      ]
     },
     "execution_count": 7,
     "metadata": {},
     "output_type": "execute_result"
    }
   ],
   "source": [
    "np.random.randint(0,100,size=100)"
   ]
  }
 ],
 "metadata": {
  "kernelspec": {
   "display_name": "Python 3",
   "language": "python",
   "name": "python3"
  },
  "language_info": {
   "codemirror_mode": {
    "name": "ipython",
    "version": 3
   },
   "file_extension": ".py",
   "mimetype": "text/x-python",
   "name": "python",
   "nbconvert_exporter": "python",
   "pygments_lexer": "ipython3",
   "version": "3.7.4"
  }
 },
 "nbformat": 4,
 "nbformat_minor": 4
}
