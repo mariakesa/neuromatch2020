{
 "cells": [
  {
   "cell_type": "code",
   "execution_count": 3,
   "metadata": {},
   "outputs": [],
   "source": [
    "import numpy as np"
   ]
  },
  {
   "cell_type": "code",
   "execution_count": 79,
   "metadata": {},
   "outputs": [],
   "source": [
    "class DataNode():\n",
    "    def __init__(self, activity_patterns):\n",
    "        self.n_neurons=activity_patterns.shape[0]\n",
    "        self.activity_patterns=activity_patterns\n",
    "        \n",
    "class SimuNode():\n",
    "    def __init__(self,n_neurons):\n",
    "        self.n_neurons=n_neurons\n",
    "        \n",
    "class Synapse():\n",
    "    def __init__(self,pre_synaptic_node, post_synaptic_node,syn_type='exc',plasticity=None):\n",
    "        self.pre_synaptic_node=pre_synaptic_node\n",
    "        self.post_synaptic_node=post_synaptic_node\n",
    "        self.syn_type=syn_type\n",
    "        if plasticity=='BCM':\n",
    "            self.theta_BCM = 0\n",
    "            self.theta_BCM_dt = .001\n",
    "            self.BCM_target = 5000.0\n",
    "            self.alpha = 0.01\n",
    "        \n",
    "    def connect(self):\n",
    "        row_dim=self.pre_synaptic_node.n_neurons\n",
    "        col_dim=self.post_synaptic_node.n_neurons\n",
    "        k=7.5\n",
    "        theta=1.0\n",
    "        if self.syn_type=='inh':\n",
    "            self.syn_weights=-np.random.gamma(shape=k,scale=theta,size=(col_dim,row_dim))\n",
    "            #self.syn_weights=-np.random.normal(loc=0,size=(col_dim,row_dim))\n",
    "        elif self.syn_type=='exc':\n",
    "            self.syn_weights=np.random.gamma(shape=k,scale=theta,size=(col_dim,row_dim))\n",
    "            \n",
    "    def learn(self,pre_syn_activities,post_syn_activities):\n",
    "        if plasticity=='BCM':\n",
    "            self._update_weights_BCM(pre_syn_activities,post_syn_activities)\n",
    "            self._update_BCM_threshold(post_syn_activities)\n",
    "        \n",
    "    def _update_weights_BCM(self,pre_syn_activities,post_syn_activities):\n",
    "        print('W before',self.syn_weights.shape)\n",
    "        #print('syn',pre_syn_activity_pattern.reshape(9479,1)@post_syn_activity_pattern.reshape(1,2))\n",
    "        self.syn_weights+= self.alpha*pre_syn_activities@post_syn_activities@(post_syn_activity_pattern-self.theta_BCM)\n",
    "        print('W after',self.syn_weights.shape)\n",
    "        \n",
    "    def _update_BCM_threshold(self,activity_pattern):\n",
    "        self.theta_BCM += self.theta_BCM_dt*((activity_pattern/self.BCM_target)*activity_pattern - self.theta_BCM)\n",
    "        \n",
    "class Simulate():\n",
    "    def __init__(self,init_dict,data):\n",
    "        self.init_dict=init_dict\n",
    "        self.connectivity_graph=self.init_dict['connectivity_graph']\n",
    "        self.node_classification=self.init_dict['node_classification']\n",
    "        self.node_ns=self.init_dict['node_ns']\n",
    "        self.data=data\n",
    "        self.data_dict={}\n",
    "        self.sim_dict={}\n",
    "        dat_ind=0\n",
    "        #exc_dat_ind=0\n",
    "        sim_ind=0\n",
    "        #exc_sim_ind=0\n",
    "        self.prev_timepoint=[]\n",
    "        self.act_lst=[]\n",
    "        for j in range(len(self.node_classification)):\n",
    "            if self.node_classification[j]=='data_inh':\n",
    "                self.data_dict[j]=dat_ind\n",
    "                dat_ind+=1\n",
    "            if self.node_classification[j]=='data_exc':\n",
    "                self.data_dict[j]=dat_ind\n",
    "                dat_ind+=1\n",
    "            if self.node_classification[j]=='simulated_exc':\n",
    "                self.sim_dict[j]=sim_ind\n",
    "                self.prev_timepoint.append(np.zeros(self.node_ns[j],))\n",
    "                self.act_lst.append([])\n",
    "                sim_ind+=1\n",
    "            if self.node_classification[j]=='simulated_inh':\n",
    "                self.sim_dict[j]=sim_ind\n",
    "                self.prev_timepoint.append(np.zeros(self.node_ns[j],))\n",
    "                self.act_lst.append([])\n",
    "                sim_ind+=1\n",
    "        \n",
    "    def _connect(self):\n",
    "        node_lst=[]\n",
    "        for node_ind,node in enumerate(self.node_classification):\n",
    "            print(node)\n",
    "            if node=='simulated_inh':\n",
    "                node_lst.append(SimuNode(self.node_ns[node_ind]))\n",
    "            if node=='simulated_exc':\n",
    "                node_lst.append(SimuNode(self.node_ns[node_ind]))\n",
    "            if node=='data_inh':\n",
    "                ind=self.data_dict[node_ind]\n",
    "                node_lst.append(DataNode(self.data[ind]))\n",
    "            if node=='data_exc':\n",
    "                ind=self.data_dict[node_ind]\n",
    "                node_lst.append(DataNode(self.data[ind]))\n",
    "        self.syn_dict_pre={}\n",
    "        self.syn_dict_post={}\n",
    "        i=0\n",
    "        self.syn_lst=[]\n",
    "        for pre in range(0,self.connectivity_graph.shape[0]):\n",
    "            for post in range(0,self.connectivity_graph.shape[1]):\n",
    "                if self.connectivity_graph[pre,post]==1:\n",
    "                    if node_classification[pre][-3:]=='exc':\n",
    "                        syn_type='exc'\n",
    "                    elif node_classification[pre][-3:]=='inh':\n",
    "                        syn_type='inh'\n",
    "                    #Synapses cannot exist between data nodes, ensure that!\n",
    "                    syn=Synapse(node_lst[pre],node_lst[post],syn_type)\n",
    "                    syn.connect()\n",
    "                    self.syn_dict_pre[i]=pre\n",
    "                    self.syn_dict_post[i]=post\n",
    "                    self.syn_lst.append(syn)\n",
    "                    i+=1\n",
    "        \n",
    "    def one_step(self,t):\n",
    "        self._connect()\n",
    "        sim_one_t=[]\n",
    "        nodes_to_update=[]\n",
    "        self.nodes_dims=[]\n",
    "        for i,node in enumerate(self.node_classification):\n",
    "            if node[:3]=='sim':\n",
    "                nodes_to_update.append(i)\n",
    "                self.nodes_dims.append(self.node_ns[i])\n",
    "        h=0.01\n",
    "        for i,node in enumerate(nodes_to_update):\n",
    "            inds=self.connectivity_graph[:,i].flatten()\n",
    "            weights_stack=np.zeros((self.nodes_dims[i],1))\n",
    "            act_stack=np.zeros((1,))\n",
    "            for syn_ind,syn in enumerate(self.syn_lst):\n",
    "                if self.syn_dict_post[syn_ind]==node:\n",
    "                    pre_ind=self.syn_dict_pre[syn_ind]\n",
    "                    weights_stack=np.hstack((weights_stack,syn.syn_weights))\n",
    "                    act_stack=np.hstack((act_stack,data[pre_ind][:,t].flatten()))\n",
    "            weights_stack=weights_stack[:,1:]\n",
    "            act_stack=act_stack[1:]\n",
    "            dt=0.01\n",
    "            activation+=dt*(-self.prev_timepoint[i]+weights_stack@self.transfer_function(act_stack))\n",
    "            activation = activation*(0.5 * (np.sign(activation) + 1))\n",
    "            self.prev_timepoint[i]=activation\n",
    "            self.act_lst[i].append(activation)\n",
    "\n",
    "    def simulate(self):\n",
    "        for t in range(0,100):\n",
    "            self.one_step(t)\n",
    "        print(self.act_lst)\n",
    "        merged_lst=[]\n",
    "        for j in range(0,len(self.act_lst)):\n",
    "            act=np.array(self.act_lst[j]).reshape(self.nodes_dims[j],-1)\n",
    "            merged_lst.append(act)\n",
    "        return merged_lst\n",
    "            \n",
    "    def transfer_function(self,x):\n",
    "        #rates = x\n",
    "        r_0=1\n",
    "        r_max=100\n",
    "        x[x<=0] = r_0*np.tanh(x[x<=0]/r_0)\n",
    "        x[x>0] = (r_max-r_0)*np.tanh(x[x>0]/(r_max-r_0))\n",
    "\n",
    "        return x\n",
    "        \n",
    "            \n",
    "        \n",
    "        "
   ]
  },
  {
   "cell_type": "code",
   "execution_count": 80,
   "metadata": {
    "scrolled": true
   },
   "outputs": [
    {
     "name": "stdout",
     "output_type": "stream",
     "text": [
      "data_exc\n",
      "data_inh\n",
      "simulated_exc\n"
     ]
    },
    {
     "ename": "UnboundLocalError",
     "evalue": "local variable 'activation' referenced before assignment",
     "output_type": "error",
     "traceback": [
      "\u001b[0;31m---------------------------------------------------------------------------\u001b[0m",
      "\u001b[0;31mUnboundLocalError\u001b[0m                         Traceback (most recent call last)",
      "\u001b[0;32m<ipython-input-80-a970aaa30b08>\u001b[0m in \u001b[0;36m<module>\u001b[0;34m\u001b[0m\n\u001b[1;32m      5\u001b[0m \u001b[0;34m\u001b[0m\u001b[0m\n\u001b[1;32m      6\u001b[0m \u001b[0minit_dict\u001b[0m\u001b[0;34m=\u001b[0m\u001b[0;34m{\u001b[0m\u001b[0;34m'node_classification'\u001b[0m\u001b[0;34m:\u001b[0m\u001b[0mnode_classification\u001b[0m\u001b[0;34m,\u001b[0m\u001b[0;34m'connectivity_graph'\u001b[0m\u001b[0;34m:\u001b[0m\u001b[0mconnectivity_graph\u001b[0m\u001b[0;34m,\u001b[0m\u001b[0;34m'node_ns'\u001b[0m\u001b[0;34m:\u001b[0m\u001b[0mnode_ns\u001b[0m\u001b[0;34m}\u001b[0m\u001b[0;34m\u001b[0m\u001b[0;34m\u001b[0m\u001b[0m\n\u001b[0;32m----> 7\u001b[0;31m \u001b[0mactivities\u001b[0m\u001b[0;34m=\u001b[0m\u001b[0mSimulate\u001b[0m\u001b[0;34m(\u001b[0m\u001b[0minit_dict\u001b[0m\u001b[0;34m,\u001b[0m\u001b[0mdata\u001b[0m\u001b[0;34m)\u001b[0m\u001b[0;34m.\u001b[0m\u001b[0msimulate\u001b[0m\u001b[0;34m(\u001b[0m\u001b[0;34m)\u001b[0m\u001b[0;34m\u001b[0m\u001b[0;34m\u001b[0m\u001b[0m\n\u001b[0m",
      "\u001b[0;32m<ipython-input-79-6d55e39bb248>\u001b[0m in \u001b[0;36msimulate\u001b[0;34m(self)\u001b[0m\n\u001b[1;32m    139\u001b[0m     \u001b[0;32mdef\u001b[0m \u001b[0msimulate\u001b[0m\u001b[0;34m(\u001b[0m\u001b[0mself\u001b[0m\u001b[0;34m)\u001b[0m\u001b[0;34m:\u001b[0m\u001b[0;34m\u001b[0m\u001b[0;34m\u001b[0m\u001b[0m\n\u001b[1;32m    140\u001b[0m         \u001b[0;32mfor\u001b[0m \u001b[0mt\u001b[0m \u001b[0;32min\u001b[0m \u001b[0mrange\u001b[0m\u001b[0;34m(\u001b[0m\u001b[0;36m0\u001b[0m\u001b[0;34m,\u001b[0m\u001b[0;36m100\u001b[0m\u001b[0;34m)\u001b[0m\u001b[0;34m:\u001b[0m\u001b[0;34m\u001b[0m\u001b[0;34m\u001b[0m\u001b[0m\n\u001b[0;32m--> 141\u001b[0;31m             \u001b[0mself\u001b[0m\u001b[0;34m.\u001b[0m\u001b[0mone_step\u001b[0m\u001b[0;34m(\u001b[0m\u001b[0mt\u001b[0m\u001b[0;34m)\u001b[0m\u001b[0;34m\u001b[0m\u001b[0;34m\u001b[0m\u001b[0m\n\u001b[0m\u001b[1;32m    142\u001b[0m         \u001b[0mprint\u001b[0m\u001b[0;34m(\u001b[0m\u001b[0mself\u001b[0m\u001b[0;34m.\u001b[0m\u001b[0mact_lst\u001b[0m\u001b[0;34m)\u001b[0m\u001b[0;34m\u001b[0m\u001b[0;34m\u001b[0m\u001b[0m\n\u001b[1;32m    143\u001b[0m         \u001b[0mmerged_lst\u001b[0m\u001b[0;34m=\u001b[0m\u001b[0;34m[\u001b[0m\u001b[0;34m]\u001b[0m\u001b[0;34m\u001b[0m\u001b[0;34m\u001b[0m\u001b[0m\n",
      "\u001b[0;32m<ipython-input-79-6d55e39bb248>\u001b[0m in \u001b[0;36mone_step\u001b[0;34m(self, t)\u001b[0m\n\u001b[1;32m    132\u001b[0m             \u001b[0mact_stack\u001b[0m\u001b[0;34m=\u001b[0m\u001b[0mact_stack\u001b[0m\u001b[0;34m[\u001b[0m\u001b[0;36m1\u001b[0m\u001b[0;34m:\u001b[0m\u001b[0;34m]\u001b[0m\u001b[0;34m\u001b[0m\u001b[0;34m\u001b[0m\u001b[0m\n\u001b[1;32m    133\u001b[0m             \u001b[0mdt\u001b[0m\u001b[0;34m=\u001b[0m\u001b[0;36m0.01\u001b[0m\u001b[0;34m\u001b[0m\u001b[0;34m\u001b[0m\u001b[0m\n\u001b[0;32m--> 134\u001b[0;31m             \u001b[0mactivation\u001b[0m\u001b[0;34m+=\u001b[0m\u001b[0mdt\u001b[0m\u001b[0;34m*\u001b[0m\u001b[0;34m(\u001b[0m\u001b[0;34m-\u001b[0m\u001b[0mself\u001b[0m\u001b[0;34m.\u001b[0m\u001b[0mprev_timepoint\u001b[0m\u001b[0;34m[\u001b[0m\u001b[0mi\u001b[0m\u001b[0;34m]\u001b[0m\u001b[0;34m+\u001b[0m\u001b[0mweights_stack\u001b[0m\u001b[0;34m@\u001b[0m\u001b[0mself\u001b[0m\u001b[0;34m.\u001b[0m\u001b[0mtransfer_function\u001b[0m\u001b[0;34m(\u001b[0m\u001b[0mact_stack\u001b[0m\u001b[0;34m)\u001b[0m\u001b[0;34m)\u001b[0m\u001b[0;34m\u001b[0m\u001b[0;34m\u001b[0m\u001b[0m\n\u001b[0m\u001b[1;32m    135\u001b[0m             \u001b[0mactivation\u001b[0m \u001b[0;34m=\u001b[0m \u001b[0mactivation\u001b[0m\u001b[0;34m*\u001b[0m\u001b[0;34m(\u001b[0m\u001b[0;36m0.5\u001b[0m \u001b[0;34m*\u001b[0m \u001b[0;34m(\u001b[0m\u001b[0mnp\u001b[0m\u001b[0;34m.\u001b[0m\u001b[0msign\u001b[0m\u001b[0;34m(\u001b[0m\u001b[0mactivation\u001b[0m\u001b[0;34m)\u001b[0m \u001b[0;34m+\u001b[0m \u001b[0;36m1\u001b[0m\u001b[0;34m)\u001b[0m\u001b[0;34m)\u001b[0m\u001b[0;34m\u001b[0m\u001b[0;34m\u001b[0m\u001b[0m\n\u001b[1;32m    136\u001b[0m             \u001b[0mself\u001b[0m\u001b[0;34m.\u001b[0m\u001b[0mprev_timepoint\u001b[0m\u001b[0;34m[\u001b[0m\u001b[0mi\u001b[0m\u001b[0;34m]\u001b[0m\u001b[0;34m=\u001b[0m\u001b[0mactivation\u001b[0m\u001b[0;34m\u001b[0m\u001b[0;34m\u001b[0m\u001b[0m\n",
      "\u001b[0;31mUnboundLocalError\u001b[0m: local variable 'activation' referenced before assignment"
     ]
    }
   ],
   "source": [
    "node_classification=['data_exc','data_inh','simulated_exc']\n",
    "connectivity_graph=np.array([[0,0,1],[0,0,1],[0,0,0]])\n",
    "node_ns=[exc_dat.shape[0],inh_dat.shape[0],4]\n",
    "data=[exc_dat,inh_dat]\n",
    "\n",
    "init_dict={'node_classification':node_classification,'connectivity_graph':connectivity_graph,'node_ns':node_ns}\n",
    "activities=Simulate(init_dict,data).simulate()\n"
   ]
  },
  {
   "cell_type": "code",
   "execution_count": 71,
   "metadata": {},
   "outputs": [
    {
     "name": "stdout",
     "output_type": "stream",
     "text": [
      "[[   409.75602606    416.75400562    400.99110169    414.32125511\n",
      "   40934.66553831  41649.15888322  40065.7498417   41406.52063934\n",
      "   -3670.27360977  -2229.96730562  -2938.00070132  -2159.95489213\n",
      "   42177.25264032  39285.49520634  39656.73102061  39895.04574428\n",
      "  -16156.44102074 -13046.84254655 -14232.28439461 -15393.16732347\n",
      "   44858.08047315  40899.87030802  41425.0203249   42374.22808175\n",
      "   -9043.16517101  -6167.48558822  -7111.36745271  -7267.20360556\n",
      "   40437.85907387  37442.48008866  37412.88546071  38362.73895144\n",
      "  -14189.2977863  -11521.48178954 -10954.22409296 -13160.83261249\n",
      "   35487.64118367  33787.17676568  32585.97650499  34440.58743029\n",
      "  -11243.01997591  -8176.03859211  -6666.77566093  -8532.92704692\n",
      "   33966.96345038  30451.3467582   29099.04959552  32571.85545082\n",
      "  -17577.41567937 -14417.63793507 -13359.31602899 -17171.60485347\n",
      "   42818.91118715  38598.33713623  37830.0272256   41518.50806925\n",
      "  -17541.95961144 -13562.24316072 -14135.56621571 -16113.38868782\n",
      "   31730.76646734  27770.23923484  27415.37586197  29182.92409841\n",
      "  -25511.75284369 -21289.48741991 -21183.19858356 -22787.08815713\n",
      "   31484.3072869   27035.58371455  26969.72880586  28195.43110664\n",
      "  -26750.14933783 -22117.85336622 -22484.60378529 -24336.79725829\n",
      "   32940.62799291  27637.8992897   28528.1674063   30970.94344477\n",
      "  -27591.76190581 -22858.56980924 -23513.59969967 -25698.53808488\n",
      "   33413.42892193  28177.56852506  29554.96465833  32323.33776979\n",
      "  -28586.09216393 -23015.0174041  -25297.8600556  -27582.29215692\n",
      "   32536.85026824  27033.50426198  29622.47152217  31524.29906774\n",
      "  -30724.74544415 -25033.14771439 -27715.10782672 -29549.89887353]\n",
      " [ 39129.31117479  34353.02377526  36315.27069208  37754.80582947\n",
      "  -27354.78860719 -22740.91738452 -25169.46628532 -26179.23735311\n",
      "   35356.98753946  30035.35914539  33409.02375951  34330.93324094\n",
      "  -27691.43688654 -22648.39736075 -25417.05562307 -26478.55852556\n",
      "   33561.30623905  28056.00948507  31055.11077866  32410.70882693\n",
      "  -28337.98574133 -23463.7025255  -26292.32767925 -27747.99640123\n",
      "   33492.51112221  28587.45970499  31922.37965523  33035.66532563\n",
      "  -25303.33201866 -20809.50251116 -24036.58335578 -25362.94489567\n",
      "   37090.26112749  30869.56710009  35505.69238232  35611.7304676\n",
      "  -30533.88654225 -24104.00245814 -29268.27019082 -28854.96161909\n",
      "   35052.00559606  28555.86359473  33622.36294781  33368.9163387\n",
      "  -27225.96003752 -20951.95452326 -25409.79158519 -25133.11148927\n",
      "   47021.72835307  40462.89563173  46349.70890595  45990.71492409\n",
      "  -33837.47277115 -27426.23915879 -33813.16334376 -33229.30936893\n",
      "   39632.7122479   32722.23866626  39318.54750684  39162.0239354\n",
      "  -25990.34825913 -18949.62449122 -24216.87208714 -25809.66251085\n",
      "   42645.50277471  36039.25559407  42101.30972312  42691.99167999\n",
      "  -24560.19574864 -17375.05813854 -23987.24701273 -24393.74684322\n",
      "   50060.03565047  42378.65687245  49665.60688511  49921.17355421\n",
      "  -22537.05710928 -15126.19627455 -22578.47694427 -22263.36766161\n",
      "   34537.65509357  27632.35222068  35496.29659075  34543.70982468\n",
      "  -26537.257854   -20051.6293118  -27472.69534588 -27431.34697061\n",
      "   33947.40782057  27254.52428979  34708.16370123  34215.40929571\n",
      "  -16491.97521219 -10422.04216599 -17078.25151467 -18226.60704916\n",
      "   34462.02581612  27902.73200425  34846.89730596  36419.85072631]\n",
      " [-20694.90117723 -13729.15892098 -21453.36256236 -22873.17720817\n",
      "   37634.52151788  31479.96370509  38393.19552918  40032.07166006\n",
      "  -27452.79499372 -20927.05097727 -28240.25791671 -30320.47001883\n",
      "   39652.11243027  32163.10964786  39776.25543707  41791.4128477\n",
      "  -23222.02135002 -13487.68287609 -22307.58198376 -24219.73778865\n",
      "   38160.95589471  26383.89929183  37026.35096615  38470.97608902\n",
      "  -26725.731608   -14615.62730109 -25724.00560602 -26982.95492251\n",
      "   39310.06042129  26033.33451968  39042.93612379  40193.27585956\n",
      "  -30290.44433382 -15961.34583787 -28987.03966023 -30224.12871135\n",
      "   35420.37802894  20699.69781349  33609.90832972  35699.53354654\n",
      "  -32622.63989987 -17404.1595977  -30422.70611829 -33044.23372833\n",
      "   34950.84559681  19889.07256155  33099.54082305  35946.6405389\n",
      "  -32690.92073475 -18101.48426723 -31483.59140237 -34066.09035369\n",
      "   34433.40132138  20172.39188182  33756.9011826   36253.83086163\n",
      "  -27059.49789815 -13063.00514811 -26966.11409875 -29562.48089888\n",
      "   34759.73876605  19442.44616043  34062.86303193  36424.31681631\n",
      "  -30139.05686638 -15383.82911679 -29588.22347356 -31812.86900338\n",
      "   31860.47073124  17580.15682548  31634.98388391  33687.50787592\n",
      "  -25575.58216145 -12212.33303164 -26215.99519206 -28664.81529602\n",
      "   28529.26838229  15670.72427962  29873.76992745  32955.10535555\n",
      "  -24096.38509196 -11324.88195786 -25370.77818279 -28723.85726432\n",
      "   30501.46572739  17815.30195431  31753.53991553  35646.32226347\n",
      "  -20672.79008753  -7422.19690887 -20978.0107199  -25269.21966309\n",
      "   40343.62738306  25596.88081384  38970.32782627  42962.26185789\n",
      "  -18534.01277735  -3180.8743354  -16898.5713459  -19569.39180176]\n",
      " [ 38533.46823813  23347.76097349  37728.94157641  39923.92058762\n",
      "   -7080.7900227    8604.14993751  -6258.83666875  -7549.47502897\n",
      "   36507.97322579  19528.06365659  32804.75502365  35314.07971743\n",
      "   -8201.10378273   9314.25002941  -5671.88335314  -8332.30043673\n",
      "   31059.84383005  14215.53010395  28640.13422454  31922.64933858\n",
      "  -18143.23909106  -2572.58451209 -17218.84068577 -19620.92684158\n",
      "   27912.25381906  12333.98619958  27107.50300158  29470.22581712\n",
      "  -17292.61633675  -1480.26425022 -16417.6382269  -19358.26533768\n",
      "   28828.85893169  13298.83457053  29557.63099372  31879.85473449\n",
      "  -19574.08647521  -3192.57613441 -19611.15777617 -21515.72101698\n",
      "   37533.9930123   22508.31334337  38666.69830636  41055.2103043\n",
      "  -14524.24137844   1318.54154633 -13917.13387558 -16197.91891552\n",
      "   41493.37623909  25617.37324544  39720.38103368  43316.70878345\n",
      "  -26334.67253734 -11323.71277651 -25654.58830685 -29347.87924265\n",
      "   35042.22144305  19962.20670189  33712.06669947  36704.2329879\n",
      "  -23504.51733207  -8424.61367207 -22066.97369953 -24253.6387425\n",
      "   39538.30687647  24211.69222856  37815.25611794  39655.70781909\n",
      "  -19592.60390727  -3723.54251075 -17728.16282482 -19544.22041901\n",
      "   43609.43820143  27390.99929475  40760.53877118  43161.60863486\n",
      "  -17408.20274054   -664.68333537 -13255.21775016 -15201.7681889\n",
      "   31874.89971631  16811.16145546  29228.71060126  31322.84778907\n",
      "  -17171.95926824  -3557.39319901 -15252.7803619  -17129.58971387\n",
      "   34529.0594307   19015.74136987  31435.34585337  33601.02181622\n",
      "  -22379.21738748  -6623.19673881 -18031.94752742 -20163.98009066\n",
      "   29287.60458725  13737.56916896  24394.63362152  26917.43830989]]\n"
     ]
    },
    {
     "data": {
      "text/plain": [
       "[<matplotlib.lines.Line2D at 0x7fd24a9e55d0>,\n",
       " <matplotlib.lines.Line2D at 0x7fd24a9e57d0>,\n",
       " <matplotlib.lines.Line2D at 0x7fd24a9e5990>,\n",
       " <matplotlib.lines.Line2D at 0x7fd24a9e5b50>]"
      ]
     },
     "execution_count": 71,
     "metadata": {},
     "output_type": "execute_result"
    },
    {
     "data": {
      "image/png": "[encoded data removed]",
      "text/plain": [
       "<Figure size 432x288 with 1 Axes>"
      ]
     },
     "metadata": {
      "needs_background": "light"
     },
     "output_type": "display_data"
    }
   ],
   "source": [
    "print(activities[0])\n",
    "import matplotlib.pyplot as plt\n",
    "plt.plot(activities[0].T[:50])"
   ]
  },
  {
   "cell_type": "code",
   "execution_count": 6,
   "metadata": {},
   "outputs": [
    {
     "name": "stdout",
     "output_type": "stream",
     "text": [
      "Shape of the data matrix, neurons by timepoints: (18795, 30766)\n"
     ]
    }
   ],
   "source": [
    "data_path='/media/maria/DATA1/Documents/data_for_suite2p/TX39_total/'\n",
    "dt=1\n",
    "spks= np.load(data_path+'spks.npy')\n",
    "print('Shape of the data matrix, neurons by timepoints:',spks.shape)\n",
    "iframe = np.load(data_path+'iframe.npy') # iframe[n] is the microscope frame for the image frame n\n",
    "ivalid = iframe+dt<spks.shape[-1] # remove timepoints outside the valid time range\n",
    "iframe = iframe[ivalid]\n",
    "S = spks[:, iframe+dt]\n",
    "#U=np.load('U.npy')"
   ]
  },
  {
   "cell_type": "code",
   "execution_count": 7,
   "metadata": {},
   "outputs": [],
   "source": [
    "U=np.load('U.npy')"
   ]
  },
  {
   "cell_type": "code",
   "execution_count": 9,
   "metadata": {},
   "outputs": [],
   "source": [
    "#del spks\n",
    "del S"
   ]
  },
  {
   "cell_type": "code",
   "execution_count": 8,
   "metadata": {},
   "outputs": [],
   "source": [
    "stim_ens_inds=np.nonzero(U[:,13])[0]\n",
    "exc_dat=S[stim_ens_inds]\n",
    "inh_dat=S[np.random.randint(0,S.shape[0],size=100),:]"
   ]
  },
  {
   "cell_type": "code",
   "execution_count": 12,
   "metadata": {},
   "outputs": [
    {
     "name": "stdout",
     "output_type": "stream",
     "text": [
      "(642, 30560)\n"
     ]
    }
   ],
   "source": [
    "print(exc_dat.shape)"
   ]
  },
  {
   "cell_type": "code",
   "execution_count": 9,
   "metadata": {},
   "outputs": [],
   "source": [
    "inh_dat=S[np.random.randint(0,S.shape[0],size=10),:]\n",
    "exc_dat=S[np.random.randint(0,S.shape[0],size=100),:]"
   ]
  },
  {
   "cell_type": "code",
   "execution_count": 7,
   "metadata": {},
   "outputs": [
    {
     "data": {
      "text/plain": [
       "array([63, 86, 49,  1, 55, 81,  2, 97, 27, 53, 32, 11, 35, 41, 51, 93, 31,\n",
       "       52, 28, 89, 70, 17, 46, 85, 37, 49, 70, 78, 57, 91, 47, 70, 50, 60,\n",
       "       87, 81, 76, 39,  3, 62, 64, 70,  2, 72, 73, 72, 71, 89,  5, 73, 53,\n",
       "       47,  8,  6, 33, 33, 23, 79, 30, 72, 60, 43, 84, 58, 20, 13, 93, 48,\n",
       "       71, 90, 29, 88, 77, 26, 48, 82, 65, 51, 60, 22,  0, 96,  1, 53, 21,\n",
       "       58, 34, 58, 59, 24, 31, 11, 20, 25, 43, 12, 11, 76, 93, 38])"
      ]
     },
     "execution_count": 7,
     "metadata": {},
     "output_type": "execute_result"
    }
   ],
   "source": [
    "np.random.randint(0,100,size=100)"
   ]
  }
 ],
 "metadata": {
  "kernelspec": {
   "display_name": "Python 3",
   "language": "python",
   "name": "python3"
  },
  "language_info": {
   "codemirror_mode": {
    "name": "ipython",
    "version": 3
   },
   "file_extension": ".py",
   "mimetype": "text/x-python",
   "name": "python",
   "nbconvert_exporter": "python",
   "pygments_lexer": "ipython3",
   "version": "3.7.4"
  }
 },
 "nbformat": 4,
 "nbformat_minor": 4
}
