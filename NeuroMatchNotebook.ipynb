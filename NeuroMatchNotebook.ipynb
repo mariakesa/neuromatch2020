{
 "cells": [
  {
   "cell_type": "code",
   "execution_count": 13,
   "metadata": {},
   "outputs": [],
   "source": [
    "#!pip install EnsemblePursuit\n",
    "from EnsemblePursuit.EnsemblePursuit import EnsemblePursuit\n",
    "import numpy as np\n",
    "import matplotlib.pyplot as plt\n",
    "%matplotlib inline"
   ]
  },
  {
   "cell_type": "markdown",
   "metadata": {},
   "source": [
    "# Introduction"
   ]
  },
  {
   "cell_type": "markdown",
   "metadata": {},
   "source": [
    "In this notebook we work with a large-scale calcium imaging recording from the primary visual cortex V1 of the mouse available publicly https://figshare.com/articles/Recording_of_19_000_neurons_across_mouse_visual_cortex_during_sparse_noise_stimuli/9505250 \n",
    "\n",
    "We apply a sparse matrix factorization algorithm called EnsemblePursuit to extract ensembles of correlated cells from this dataset. The algorithm is available here https://github.com/MouseLand/EnsemblePursuit It can be pip installed ('pip install EnsemblePursuit').\n",
    "\n",
    "The following notebook explored the relationship between the spatial organization of cells in the ensemble and their relationship to stimuli in receptive fields and behavioral data in the form of motion energy of the mouse's face extracted via the SVD algorithm, https://github.com/MouseLand/EnsemblePursuit/blob/master/Notebooks/BehaviorStimulusCorrsWithSpatialSpreadOfEnsemble.ipynb Specifically, we use ridge regression to map from stimulus and behavioral components to the average activity of the cells in ensemble and quantify how well the learned models can predict the activity of the ensemble on test data (quantified through correlation of the predicted timeseries with the actual timeseries). \n",
    "\n",
    "We found that ensembles that exhibit linear receptive fields are localized in space while ensembles that are best explained by behavior display higher spatial variance. \n",
    "\n",
    "In this notebook we take inspiration from a paper that found that the synapses between neurons with similar receptive fields are very strong, while synapses that are formed between cells that do not show correlation in their responses are weak. \n",
    "\n",
    "We create an artificial neuron that receives strong inputs from a \"sensory\" ensemble (ensemble with a receptive field) and weak inputs from a spatially spread out \"behavioral ensemble\" (ensemble taht is well predicted by behavioral motion SVD's). We endow the neuron with the BCM plasticity rule and study the evolution of synaptic weights and the change in recepti"
   ]
  },
  {
   "cell_type": "markdown",
   "metadata": {},
   "source": [
    "# Extracting Ensembles of Correlated Cells"
   ]
  },
  {
   "cell_type": "code",
   "execution_count": 2,
   "metadata": {},
   "outputs": [
    {
     "name": "stdout",
     "output_type": "stream",
     "text": [
      "Shape of the data matrix, neurons by timepoints: (18795, 30766)\n",
      "(18795, 30560)\n",
      "obtained 50 PCs in 7.1065 seconds\n",
      "initialized 50 clusters with k-means in 19.2944 seconds\n",
      "ensemble 0, time 13.25, nr neurons 6337, EV 0.0086\n",
      "ensemble 25, time 65.89, nr neurons 268, EV 0.0333\n",
      "ensemble 49, time 95.60, nr neurons 130, EV 0.0420\n",
      "average sparsity is 0.0274\n"
     ]
    }
   ],
   "source": [
    "\n",
    "data_path='/media/maria/DATA1/Documents/data_for_suite2p/TX39/'\n",
    "dt=1\n",
    "spks= np.load(data_path+'spks.npy')\n",
    "print('Shape of the data matrix, neurons by timepoints:',spks.shape)\n",
    "iframe = np.load(data_path+'iframe.npy') # iframe[n] is the microscope frame for the image frame n\n",
    "ivalid = iframe+dt<spks.shape[-1] # remove timepoints outside the valid time range\n",
    "iframe = iframe[ivalid]\n",
    "S = spks[:, iframe+dt]\n",
    "print(S.shape)\n",
    "#Uncomment to compute U and V\n",
    "#ep=EnsemblePursuit(n_components=50,lam=0.01,n_kmeans=50)\n",
    "#model=ep.fit(S.T[:10000,:])\n",
    "#V=model.components_\n",
    "#U=model.weights\n",
    "#np.save('U.npy',U)"
   ]
  },
  {
   "cell_type": "code",
   "execution_count": 3,
   "metadata": {},
   "outputs": [],
   "source": [
    "del spks"
   ]
  },
  {
   "cell_type": "code",
   "execution_count": 15,
   "metadata": {},
   "outputs": [
    {
     "name": "stdout",
     "output_type": "stream",
     "text": [
      "(18795, 50)\n",
      "None\n",
      "(642,)\n"
     ]
    },
    {
     "data": {
      "text/plain": [
       "(array([ 29., 135., 154., 126.,  91.,  56.,  29.,  16.,   5.,   1.]),\n",
       " array([ 2.14707851,  3.78068523,  5.41429196,  7.04789868,  8.6815054 ,\n",
       "        10.31511213, 11.94871885, 13.58232558, 15.2159323 , 16.84953903,\n",
       "        18.48314575]),\n",
       " <a list of 10 Patch objects>)"
      ]
     },
     "execution_count": 15,
     "metadata": {},
     "output_type": "execute_result"
    },
    {
     "data": {
      "image/png": "[encoded data removed]",
      "text/plain": [
       "<Figure size 432x288 with 1 Axes>"
      ]
     },
     "metadata": {
      "needs_background": "light"
     },
     "output_type": "display_data"
    }
   ],
   "source": [
    "#Select stim ensemble, make weights for stim ens\n",
    "print(print(U.shape))\n",
    "stim_ens_inds=np.nonzero(U[:,13])[0]\n",
    "print(stim_ens_inds.shape)\n",
    "stim_k=7.5\n",
    "stim_theta=1.0\n",
    "stim_weights=np.random.gamma(shape=stim_k,scale=stim_theta,size=(stim_ens_inds.shape[0],))\n",
    "plt.hist(stim_weights)"
   ]
  },
  {
   "cell_type": "code",
   "execution_count": 14,
   "metadata": {},
   "outputs": [
    {
     "name": "stdout",
     "output_type": "stream",
     "text": [
      "(463,)\n"
     ]
    },
    {
     "data": {
      "text/plain": [
       "(array([213., 104.,  73.,  34.,  18.,   8.,   6.,   4.,   1.,   2.]),\n",
       " array([9.47150978e-03, 1.24141016e+00, 2.47334881e+00, 3.70528746e+00,\n",
       "        4.93722611e+00, 6.16916476e+00, 7.40110341e+00, 8.63304206e+00,\n",
       "        9.86498071e+00, 1.10969194e+01, 1.23288580e+01]),\n",
       " <a list of 10 Patch objects>)"
      ]
     },
     "execution_count": 14,
     "metadata": {},
     "output_type": "execute_result"
    },
    {
     "data": {
      "image/png": "[encoded data removed]",
      "text/plain": [
       "<Figure size 432x288 with 1 Axes>"
      ]
     },
     "metadata": {
      "needs_background": "light"
     },
     "output_type": "display_data"
    }
   ],
   "source": [
    "#Select beh ensemble, make weights for stim_ens\n",
    "beh_ens_inds=np.nonzero(U[:,8])[0]\n",
    "print(beh_ens_inds.shape)\n",
    "beh_k=1.0\n",
    "beh_theta=2.0\n",
    "beh_weights=np.random.gamma(shape=beh_k,scale=beh_theta,size=(beh_ens_inds.shape[0],))\n",
    "plt.hist(beh_weights)"
   ]
  },
  {
   "cell_type": "code",
   "execution_count": 12,
   "metadata": {},
   "outputs": [
    {
     "name": "stdout",
     "output_type": "stream",
     "text": [
      "(1105,)\n"
     ]
    }
   ],
   "source": [
    "weights=np.hstack((stim_weights,beh_weights))\n",
    "print(weights.shape)"
   ]
  },
  {
   "cell_type": "code",
   "execution_count": 18,
   "metadata": {},
   "outputs": [],
   "source": [
    "stim_inp=S[stim_ens_inds]\n",
    "beh_imp=S[beh_ens_inds]\n",
    "input_patterns="
   ]
  },
  {
   "cell_type": "code",
   "execution_count": 19,
   "metadata": {},
   "outputs": [
    {
     "name": "stdout",
     "output_type": "stream",
     "text": [
      "(642, 30560)\n"
     ]
    }
   ],
   "source": [
    "print(stim_inp.shape)"
   ]
  },
  {
   "cell_type": "code",
   "execution_count": 17,
   "metadata": {},
   "outputs": [
    {
     "ename": "NameError",
     "evalue": "name 'input_patterns' is not defined",
     "output_type": "error",
     "traceback": [
      "\u001b[0;31m---------------------------------------------------------------------------\u001b[0m",
      "\u001b[0;31mNameError\u001b[0m                                 Traceback (most recent call last)",
      "\u001b[0;32m<ipython-input-17-4b6b08f68c5a>\u001b[0m in \u001b[0;36m<module>\u001b[0;34m\u001b[0m\n\u001b[0;32m----> 1\u001b[0;31m \u001b[0mv_lst\u001b[0m\u001b[0;34m=\u001b[0m\u001b[0;34m[\u001b[0m\u001b[0mnp\u001b[0m\u001b[0;34m.\u001b[0m\u001b[0mdot\u001b[0m\u001b[0;34m(\u001b[0m\u001b[0mweights\u001b[0m\u001b[0;34m,\u001b[0m\u001b[0minput_patterns\u001b[0m\u001b[0;34m[\u001b[0m\u001b[0;34m:\u001b[0m\u001b[0;34m,\u001b[0m\u001b[0;36m0\u001b[0m\u001b[0;34m]\u001b[0m\u001b[0;34m)\u001b[0m\u001b[0;34m]\u001b[0m\u001b[0;34m\u001b[0m\u001b[0;34m\u001b[0m\u001b[0m\n\u001b[0m\u001b[1;32m      2\u001b[0m \u001b[0;32mfor\u001b[0m \u001b[0mj\u001b[0m \u001b[0;32min\u001b[0m \u001b[0mrange\u001b[0m\u001b[0;34m(\u001b[0m\u001b[0;36m1\u001b[0m\u001b[0;34m,\u001b[0m\u001b[0;36m30560\u001b[0m\u001b[0;34m)\u001b[0m\u001b[0;34m:\u001b[0m\u001b[0;34m\u001b[0m\u001b[0;34m\u001b[0m\u001b[0m\n\u001b[1;32m      3\u001b[0m     \u001b[0mv_lst\u001b[0m\u001b[0;34m.\u001b[0m\u001b[0mappend\u001b[0m\u001b[0;34m(\u001b[0m\u001b[0mnp\u001b[0m\u001b[0;34m.\u001b[0m\u001b[0mdot\u001b[0m\u001b[0;34m(\u001b[0m\u001b[0mweights\u001b[0m\u001b[0;34m,\u001b[0m\u001b[0minput_patterns\u001b[0m\u001b[0;34m[\u001b[0m\u001b[0;34m:\u001b[0m\u001b[0;34m,\u001b[0m\u001b[0mj\u001b[0m\u001b[0;34m]\u001b[0m\u001b[0;34m)\u001b[0m\u001b[0;34m)\u001b[0m\u001b[0;34m\u001b[0m\u001b[0;34m\u001b[0m\u001b[0m\n",
      "\u001b[0;31mNameError\u001b[0m: name 'input_patterns' is not defined"
     ]
    }
   ],
   "source": [
    "v_lst=[np.dot(weights,input_patterns[:,0])]\n",
    "for j in range(1,30560):\n",
    "    v_lst.append(np.dot(weights,input_patterns[:,j]))"
   ]
  }
 ],
 "metadata": {
  "kernelspec": {
   "display_name": "Python 3",
   "language": "python",
   "name": "python3"
  },
  "language_info": {
   "codemirror_mode": {
    "name": "ipython",
    "version": 3
   },
   "file_extension": ".py",
   "mimetype": "text/x-python",
   "name": "python",
   "nbconvert_exporter": "python",
   "pygments_lexer": "ipython3",
   "version": "3.7.4"
  }
 },
 "nbformat": 4,
 "nbformat_minor": 2
}
