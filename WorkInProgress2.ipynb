{
 "cells": [
  {
   "cell_type": "code",
   "execution_count": 1,
   "metadata": {
    "scrolled": true
   },
   "outputs": [],
   "source": [
    "import numpy as np\n",
    "import matplotlib.pyplot as plt\n",
    "input_patterns=np.load('input_patterns.npy')\n",
    "weights=np.load('weights.npy')"
   ]
  },
  {
   "cell_type": "code",
   "execution_count": 25,
   "metadata": {},
   "outputs": [],
   "source": [
    "def update_theta(theta_BCM,post_syn_patterns,pre_syn_patterns):\n",
    "    dt=0.001\n",
    "    BCM_target = 2.0\n",
    "    tau_BCM=0.01\n",
    "    post_syn_patterns += dt*(-1*post_syn_patterns + np.dot(W,update_rates(pre_syn_patterns)))\n",
    "    Ex= post_syn_patterns*(0.5 * (np.sign(post_syn_patterns) + 1))\n",
    "    theta_BCM+=dt*(-theta_BCM+(post_syn_patterns*(post_syn_patterns/BCM_target)))/tau_BCM\n",
    "    return theta_BCM\n",
    "\n",
    "def update_w(W,pre_syn_patterns,post_syn_patterns,theta_BCM):\n",
    "    dt=0.01\n",
    "    tau_w=0.01\n",
    "    W_max=1.0\n",
    "    W+=dt*(-W+pre_syn_patterns*np.dot(post_syn_patterns,(post_syn_patterns-theta_BCM)))/tau_w\n",
    "    W = W*(0.5 * (np.sign(W) + 1))\n",
    "\n",
    "    # bounding weights below max value\n",
    "    W[W>W_max] = W_max\n",
    "    return W\n",
    "\n",
    "\n",
    "def update_rates(x):\n",
    "    #rates = x\n",
    "    r_0 = 1.0\n",
    "    r_max = 20.0\n",
    "    x[x<=0] = r_0*np.tanh(x[x<=0]/r_0)\n",
    "    x[x>0] = (r_max-r_0)*np.tanh(x[x>0]/(r_max-r_0))\n",
    "    return x\n",
    "def one_timestep(W,pre_syn_patterns,post_syn_patterns,theta_BCM):\n",
    "    dt=0.001\n",
    "    #new_W=update_w(W,pre_syn_patterns,post_syn_patterns,theta_BCM)\n",
    "    #new_theta_BCM=update_theta(theta_BCM,W,post_syn_patterns)\n",
    "    post_syn_patterns += dt*(-1*post_syn_patterns + np.dot(W,update_rates(pre_syn_patterns)))\n",
    "    post_syn_patterns= post_syn_patterns*(0.5 * (np.sign(post_syn_patterns) + 1))\n",
    "    theta_BCM=update_theta(theta_BCM,post_syn_patterns,pre_syn_patterns)\n",
    "    W=update_w(W,pre_syn_patterns,post_syn_patterns,theta_BCM)\n",
    "    #theta_BCM=update_theta(theta_BCM,W,post_syn_patterns)\n",
    "    #return post_syn_patterns,new_W,new_theta_BCM\n",
    "    return post_syn_patterns,W,theta_BCM\n",
    "\n",
    "def run_sim(W,pre_syn_patterns):\n",
    "    post_syn_patterns=np.array([0.0])\n",
    "    T=10000\n",
    "    Ws=[]\n",
    "    theta_BCM=np.array([0.5])\n",
    "    \n",
    "    \n",
    "    xs=[]\n",
    "    for i in range(T):\n",
    "        post_syn_patterns, W, theta_BCM=one_timestep(W,pre_syn_patterns[:,i],post_syn_patterns,theta_BCM)\n",
    "        #print(post_syn_patterns)\n",
    "        #print(W)\n",
    "        Ws.append(W)\n",
    "        xs.append(post_syn_patterns)\n",
    "    xs=np.array(xs)\n",
    "    return xs, Ws"
   ]
  },
  {
   "cell_type": "code",
   "execution_count": 26,
   "metadata": {},
   "outputs": [
    {
     "name": "stdout",
     "output_type": "stream",
     "text": [
      "[7.96269589e-04 6.48374340e-04 6.33272184e-04 ... 1.64408282e-04\n",
      " 8.32541703e-05 8.59732262e-05]\n"
     ]
    }
   ],
   "source": [
    "W=weights.copy()*0.0001\n",
    "print(W)\n",
    "pre_syn_patterns=input_patterns\n",
    "xs,Ws=run_sim(W,pre_syn_patterns)"
   ]
  },
  {
   "cell_type": "code",
   "execution_count": 27,
   "metadata": {
    "scrolled": true
   },
   "outputs": [
    {
     "data": {
      "text/plain": [
       "[<matplotlib.lines.Line2D at 0x7fa68a0d17d0>]"
      ]
     },
     "execution_count": 27,
     "metadata": {},
     "output_type": "execute_result"
    },
    {
     "data": {
      "image/png": "[encoded data removed]",
      "text/plain": [
       "<Figure size 432x288 with 1 Axes>"
      ]
     },
     "metadata": {
      "needs_background": "light"
     },
     "output_type": "display_data"
    }
   ],
   "source": [
    "plt.plot(xs)"
   ]
  },
  {
   "cell_type": "code",
   "execution_count": 21,
   "metadata": {},
   "outputs": [
    {
     "name": "stdout",
     "output_type": "stream",
     "text": [
      "[[1.9780865]\n",
      " [1.9780865]\n",
      " [1.9780865]\n",
      " ...\n",
      " [1.9780865]\n",
      " [1.9780865]\n",
      " [1.9780865]]\n"
     ]
    }
   ],
   "source": [
    "print(xs)"
   ]
  }
 ],
 "metadata": {
  "kernelspec": {
   "display_name": "Python 3",
   "language": "python",
   "name": "python3"
  },
  "language_info": {
   "codemirror_mode": {
    "name": "ipython",
    "version": 3
   },
   "file_extension": ".py",
   "mimetype": "text/x-python",
   "name": "python",
   "nbconvert_exporter": "python",
   "pygments_lexer": "ipython3",
   "version": "3.7.4"
  }
 },
 "nbformat": 4,
 "nbformat_minor": 4
}
