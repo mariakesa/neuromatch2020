{
 "cells": [
  {
   "cell_type": "code",
   "execution_count": 1,
   "metadata": {},
   "outputs": [],
   "source": [
    "#!pip install EnsemblePursuit\n",
    "from EnsemblePursuit.EnsemblePursuit import EnsemblePursuit\n",
    "import numpy as np\n",
    "import matplotlib.pyplot as plt\n",
    "%matplotlib inline\n",
    "from scipy.stats import zscore\n",
    "from scipy.ndimage import gaussian_filter, gaussian_filter1d\n",
    "from sklearn.preprocessing import MinMaxScaler"
   ]
  },
  {
   "cell_type": "code",
   "execution_count": 4,
   "metadata": {},
   "outputs": [
    {
     "name": "stdout",
     "output_type": "stream",
     "text": [
      "Shape of the data matrix, neurons by timepoints: (18795, 30766)\n",
      "(18795, 30560)\n"
     ]
    }
   ],
   "source": [
    "data_path='/media/maria/DATA1/Documents/data_for_suite2p/TX39_total/'\n",
    "dt=1\n",
    "spks= np.load(data_path+'spks.npy')\n",
    "print('Shape of the data matrix, neurons by timepoints:',spks.shape)\n",
    "iframe = np.load(data_path+'iframe.npy') # iframe[n] is the microscope frame for the image frame n\n",
    "ivalid = iframe+dt<spks.shape[-1] # remove timepoints outside the valid time range\n",
    "iframe = iframe[ivalid]\n",
    "S = spks[:, iframe+dt]\n",
    "print(S.shape)"
   ]
  },
  {
   "cell_type": "code",
   "execution_count": 6,
   "metadata": {},
   "outputs": [
    {
     "name": "stdout",
     "output_type": "stream",
     "text": [
      "(18795, 50)\n",
      "None\n",
      "(642,)\n"
     ]
    },
    {
     "data": {
      "text/plain": [
       "(array([ 26., 176., 218., 141.,  64.,  15.,   0.,   1.,   0.,   1.]),\n",
       " array([ 1.1378856 ,  3.49444619,  5.85100679,  8.20756738, 10.56412798,\n",
       "        12.92068857, 15.27724917, 17.63380976, 19.99037036, 22.34693095,\n",
       "        24.70349155]),\n",
       " <a list of 10 Patch objects>)"
      ]
     },
     "execution_count": 6,
     "metadata": {},
     "output_type": "execute_result"
    },
    {
     "data": {
      "image/png": "[encoded data removed]",
      "text/plain": [
       "<Figure size 432x288 with 1 Axes>"
      ]
     },
     "metadata": {
      "needs_background": "light"
     },
     "output_type": "display_data"
    }
   ],
   "source": [
    "#Select stim ensemble, make weights for stim ens\n",
    "U=np.load('U.npy')\n",
    "print(print(U.shape))\n",
    "stim_ens_inds=np.nonzero(U[:,13])[0]\n",
    "print(stim_ens_inds.shape)\n",
    "stim_k=7.5\n",
    "stim_theta=1.0\n",
    "stim_weights=np.random.gamma(shape=stim_k,scale=stim_theta,size=(stim_ens_inds.shape[0],))\n",
    "plt.hist(stim_weights)"
   ]
  },
  {
   "cell_type": "code",
   "execution_count": 7,
   "metadata": {},
   "outputs": [
    {
     "name": "stdout",
     "output_type": "stream",
     "text": [
      "(463,)\n"
     ]
    },
    {
     "data": {
      "text/plain": [
       "(array([228., 114.,  63.,  31.,  13.,   8.,   2.,   0.,   3.,   1.]),\n",
       " array([2.87081784e-03, 1.33743264e+00, 2.67199446e+00, 4.00655628e+00,\n",
       "        5.34111810e+00, 6.67567992e+00, 8.01024174e+00, 9.34480356e+00,\n",
       "        1.06793654e+01, 1.20139272e+01, 1.33484890e+01]),\n",
       " <a list of 10 Patch objects>)"
      ]
     },
     "execution_count": 7,
     "metadata": {},
     "output_type": "execute_result"
    },
    {
     "data": {
      "image/png": "[encoded data removed]",
      "text/plain": [
       "<Figure size 432x288 with 1 Axes>"
      ]
     },
     "metadata": {
      "needs_background": "light"
     },
     "output_type": "display_data"
    }
   ],
   "source": [
    "#Select beh ensemble, make weights for stim_ens\n",
    "beh_ens_inds=np.nonzero(U[:,8])[0]\n",
    "print(beh_ens_inds.shape)\n",
    "beh_k=1.0\n",
    "beh_theta=2.0\n",
    "beh_weights=np.random.gamma(shape=beh_k,scale=beh_theta,size=(beh_ens_inds.shape[0],))\n",
    "plt.hist(beh_weights)"
   ]
  },
  {
   "cell_type": "code",
   "execution_count": 8,
   "metadata": {},
   "outputs": [
    {
     "name": "stdout",
     "output_type": "stream",
     "text": [
      "(1105,)\n"
     ]
    }
   ],
   "source": [
    "weights=np.hstack((stim_weights,beh_weights))\n",
    "print(weights.shape)"
   ]
  },
  {
   "cell_type": "code",
   "execution_count": 9,
   "metadata": {},
   "outputs": [],
   "source": [
    "stim_inp=S[stim_ens_inds]\n",
    "beh_imp=S[beh_ens_inds]\n",
    "input_patterns=np.vstack((stim_inp,beh_imp))"
   ]
  },
  {
   "cell_type": "code",
   "execution_count": 10,
   "metadata": {},
   "outputs": [],
   "source": [
    "del spks"
   ]
  },
  {
   "cell_type": "code",
   "execution_count": 11,
   "metadata": {},
   "outputs": [],
   "source": [
    "del S"
   ]
  },
  {
   "cell_type": "code",
   "execution_count": 12,
   "metadata": {},
   "outputs": [
    {
     "name": "stdout",
     "output_type": "stream",
     "text": [
      "(1105, 30560)\n"
     ]
    }
   ],
   "source": [
    "print(input_patterns.shape)"
   ]
  },
  {
   "cell_type": "code",
   "execution_count": 215,
   "metadata": {},
   "outputs": [],
   "source": [
    "N_E=1\n",
    "\n",
    "r_0 = 1.0\n",
    "r_max = 20.0 #maybe should set to more realistic value (e.g. =20)?\n",
    "\n",
    "dt = .001\n",
    "\n",
    "alpha = 0.01\n",
    "BCM_lambda = 0.9\n",
    "\n",
    "theta_BCM = 1.0\n",
    "\n",
    "theta_BCM = np.ones(1105)*1.0\n",
    "\n",
    "BCM_target = 2.0\n",
    "theta_BCM_dt = .001\n",
    "\n",
    "W_max = 1.0\n",
    "\n",
    "def update_theta_BCM(x,theta_BCM):\n",
    "    x_arr = x.reshape(x.size,)\n",
    "    theta_BCM += theta_BCM_dt*((x_arr[:N_E]/BCM_target)*x_arr[:N_E] - theta_BCM)\n",
    "\n",
    "    return theta_BCM\n",
    "\n",
    "def update_weights(_x,_W,_theta_BCM,input_patterns):\n",
    "\n",
    "    _W[:N_E] += alpha*_x*np.dot(input_patterns,(input_patterns-_theta_BCM))\n",
    "\n",
    "    # bounding weights to be positive\n",
    "    _W[:N_E] = _W[:N_E]*(0.5 * (np.sign(_W[:N_E]) + 1))\n",
    "\n",
    "    # bounding weights below max value\n",
    "    _W[_W>W_max] = W_max\n",
    "    # no self-connections\n",
    "    #np.fill_diagonal(_W,0.0)\n",
    "    return W\n",
    "\n",
    "def update_state_sliding_threshold(x,W,H,theta_BCM,input_patterns):\n",
    "    H=0\n",
    "    x += dt*(-1*x + np.dot(W,input_patterns) + H)/0.01\n",
    "\n",
    "    # only allow positive firing rates\n",
    "    Ex = x*(0.5 * (np.sign(x) + 1))\n",
    "\n",
    "    #W = update_weights(x,W,theta_BCM,input_patterns)\n",
    "\n",
    "    theta_BCM = update_theta_BCM(input_patterns,theta_BCM)\n",
    "\n",
    "    return theta_BCM\n",
    "\n",
    "def update_rates(x):\n",
    "    #rates = x\n",
    "    x[x<=0] = r_0*np.tanh(x[x<=0]/r_0)\n",
    "    x[x>0] = (r_max-r_0)*np.tanh(x[x>0]/(r_max-r_0))\n",
    "\n",
    "    return x\n",
    "\n",
    "def update_state(x,W,input_patterns,theta_BCM):\n",
    "    H=0\n",
    "    x += dt*(-1*x + np.dot(W,update_rates(input_patterns)))\n",
    "    #x += dt*(-1*x +W*update_rates(x) + H)\n",
    "    # only allow positive firing rates\n",
    "    x = x*(0.5 * (np.sign(x) + 1))\n",
    "\n",
    "    W = update_weights(x,W,theta_BCM,input_patterns)\n",
    "\n",
    "    theta_BCM=update_state_sliding_threshold(x,W,H,theta_BCM,input_patterns)\n",
    "    \n",
    "    return x,W,theta_BCM"
   ]
  },
  {
   "cell_type": "code",
   "execution_count": 216,
   "metadata": {},
   "outputs": [],
   "source": [
    "def run_net_plastic(x,W,input_patterns,T=1000,N_sample=N_E):\n",
    "    pop_rate = []\n",
    "    theta_BCM=0.5\n",
    "    #ext_OU = prep_net_run(T)\n",
    "    T=10000\n",
    "    \n",
    "    Ws=[]\n",
    "    \n",
    "    xs=[]\n",
    "    for i in range(T):\n",
    "        H=0\n",
    "        #H_noisy = H+ext_OU[i]+OU_drive[i]\n",
    "        H_noisy=0\n",
    "        x,W, theta_BCM = update_state(x,W,input_patterns[:,i],theta_BCM)\n",
    "\n",
    "        Ws.append(W)\n",
    "        xs.append(x)\n",
    "    return xs, Ws"
   ]
  },
  {
   "cell_type": "code",
   "execution_count": 218,
   "metadata": {
    "scrolled": false
   },
   "outputs": [
    {
     "name": "stdout",
     "output_type": "stream",
     "text": [
      "(1105,)\n",
      "(1105, 30560)\n",
      "[ 5990.83400117  6051.09794545  5639.25782294 ... 24527.45925243\n",
      " 39441.28395279 21963.39076373]\n"
     ]
    }
   ],
   "source": [
    "x=np.zeros((1,))\n",
    "W=weights\n",
    "print(W.shape)\n",
    "print(input_patterns.shape)\n",
    "print(np.dot(W,input_patterns))\n",
    "xs,Ws=run_net_plastic(x,W,input_patterns)"
   ]
  },
  {
   "cell_type": "code",
   "execution_count": 219,
   "metadata": {
    "scrolled": true
   },
   "outputs": [
    {
     "data": {
      "image/png": "[encoded data removed]",
      "text/plain": [
       "<Figure size 432x288 with 1 Axes>"
      ]
     },
     "metadata": {
      "needs_background": "light"
     },
     "output_type": "display_data"
    }
   ],
   "source": [
    "plt.plot(xs)\n",
    "xs=np.array(xs)"
   ]
  },
  {
   "cell_type": "code",
   "execution_count": 224,
   "metadata": {},
   "outputs": [
    {
     "name": "stdout",
     "output_type": "stream",
     "text": [
      "10000\n"
     ]
    }
   ],
   "source": [
    "def train_test_split(NT):\n",
    "        nsegs = 20\n",
    "        nt=NT\n",
    "        nlen  = nt/nsegs\n",
    "        ninds = np.linspace(0,nt-nlen,nsegs).astype(int)\n",
    "        itest = (ninds[:,np.newaxis] + np.arange(0,nlen*0.25,1,int)).flatten()\n",
    "        itrain = np.ones(nt, np.bool)\n",
    "        itrain[itest] = 0\n",
    "        return itrain, itest\n",
    "\n",
    "mov=np.load(data_path+'mov.npy')\n",
    "mov = mov[:, :, ivalid]\n",
    "ly, lx, nstim = mov.shape\n",
    "#print(nstim)\n",
    "NT = 10000\n",
    "NN=1\n",
    "mov=mov[:,:,:NT]\n",
    "print(NT)\n",
    "itrain,itest=train_test_split(NT)\n",
    "\n",
    "X = np.reshape(mov, [-1, NT]) # reshape to Npixels by Ntimepoints\n",
    "X = X-0.5 # subtract the background\n",
    "X = np.abs(X) # does not matter if a pixel is black (0) or white (1)\n",
    "X = zscore(X, axis=1)/NT**.5  # z-score each pixel separately\n",
    "npix = X.shape[0]\n",
    "\n",
    "lam = 0.1\n",
    "#ncomps = Sp.shape[0]\n",
    "B0 = np.linalg.solve((X[:,itrain] @ X[:,itrain].T + lam * np.eye(npix)),  (X[:,itrain] @ xs[itrain])) # get the receptive fields for each neuron\n",
    "\n",
    "B0 = np.reshape(B0, (ly, lx, 1))\n",
    "B0 = gaussian_filter(B0, [.75, .75, 0])"
   ]
  },
  {
   "cell_type": "code",
   "execution_count": 225,
   "metadata": {},
   "outputs": [
    {
     "data": {
      "text/plain": [
       "<matplotlib.image.AxesImage at 0x7f020a125dd0>"
      ]
     },
     "execution_count": 225,
     "metadata": {},
     "output_type": "execute_result"
    },
    {
     "data": {
      "image/png": "[encoded data removed]",
      "text/plain": [
       "<Figure size 432x288 with 1 Axes>"
      ]
     },
     "metadata": {
      "needs_background": "light"
     },
     "output_type": "display_data"
    }
   ],
   "source": [
    "rf = B0[:,:,0]\n",
    "rfmax = np.max(B0)\n",
    "# rfmax = np.max(np.abs(rf))\n",
    "plt.imshow(rf, aspect='auto', cmap = 'bwr', vmin = -rfmax, vmax = rfmax)"
   ]
  },
  {
   "cell_type": "code",
   "execution_count": 209,
   "metadata": {},
   "outputs": [
    {
     "ename": "AttributeError",
     "evalue": "'list' object has no attribute 'shape'",
     "output_type": "error",
     "traceback": [
      "\u001b[0;31m---------------------------------------------------------------------------\u001b[0m",
      "\u001b[0;31mAttributeError\u001b[0m                            Traceback (most recent call last)",
      "\u001b[0;32m<ipython-input-209-ccad1becd521>\u001b[0m in \u001b[0;36m<module>\u001b[0;34m\u001b[0m\n\u001b[0;32m----> 1\u001b[0;31m \u001b[0mprint\u001b[0m\u001b[0;34m(\u001b[0m\u001b[0mxs\u001b[0m\u001b[0;34m.\u001b[0m\u001b[0mshape\u001b[0m\u001b[0;34m)\u001b[0m\u001b[0;34m\u001b[0m\u001b[0;34m\u001b[0m\u001b[0m\n\u001b[0m",
      "\u001b[0;31mAttributeError\u001b[0m: 'list' object has no attribute 'shape'"
     ]
    }
   ],
   "source": [
    "print(xs.shape)"
   ]
  },
  {
   "cell_type": "code",
   "execution_count": 179,
   "metadata": {},
   "outputs": [],
   "source": [
    "U,S,V=np.linalg.svd(np.array(Ws).T)"
   ]
  },
  {
   "cell_type": "code",
   "execution_count": 180,
   "metadata": {},
   "outputs": [
    {
     "name": "stdout",
     "output_type": "stream",
     "text": [
      "(1105, 1105)\n"
     ]
    }
   ],
   "source": [
    "print(U.shape)"
   ]
  },
  {
   "cell_type": "code",
   "execution_count": 181,
   "metadata": {},
   "outputs": [
    {
     "name": "stdout",
     "output_type": "stream",
     "text": [
      "[-0.          1.          1.         ...  1.          0.10619288\n",
      "  1.        ]\n"
     ]
    }
   ],
   "source": [
    "print(Ws[100])"
   ]
  },
  {
   "cell_type": "code",
   "execution_count": 182,
   "metadata": {},
   "outputs": [],
   "source": [
    "Ws=np.array(Ws)"
   ]
  },
  {
   "cell_type": "code",
   "execution_count": 151,
   "metadata": {},
   "outputs": [],
   "source": [
    "import seaborn as sns"
   ]
  },
  {
   "cell_type": "code",
   "execution_count": 184,
   "metadata": {
    "scrolled": true
   },
   "outputs": [
    {
     "data": {
      "text/plain": [
       "<matplotlib.axes._subplots.AxesSubplot at 0x7f020b1f9890>"
      ]
     },
     "execution_count": 184,
     "metadata": {},
     "output_type": "execute_result"
    },
    {
     "data": {
      "image/png": "[encoded data removed]",
      "text/plain": [
       "<Figure size 432x288 with 2 Axes>"
      ]
     },
     "metadata": {
      "needs_background": "light"
     },
     "output_type": "display_data"
    }
   ],
   "source": [
    "sns.heatmap(U[:50,:50])"
   ]
  },
  {
   "cell_type": "code",
   "execution_count": 189,
   "metadata": {},
   "outputs": [
    {
     "name": "stdout",
     "output_type": "stream",
     "text": [
      "[3.11352341e+03 3.33292447e-11 2.11485486e-11 ... 1.94917395e-13\n",
      " 7.12456805e-14 4.26008538e-14]\n"
     ]
    }
   ],
   "source": [
    "print(S)"
   ]
  },
  {
   "cell_type": "code",
   "execution_count": 190,
   "metadata": {},
   "outputs": [],
   "source": [
    "from sklearn.decomposition import PCA"
   ]
  },
  {
   "cell_type": "code",
   "execution_count": 200,
   "metadata": {
    "scrolled": true
   },
   "outputs": [],
   "source": [
    "pcs=PCA(n_components=10)\n",
    "pz=pcs.fit_transform(np.array(Ws).T)"
   ]
  },
  {
   "cell_type": "code",
   "execution_count": 201,
   "metadata": {},
   "outputs": [
    {
     "data": {
      "text/plain": [
       "array([1.00000000e+00, 2.58263243e-32, 1.67841635e-32, 1.58706170e-32,\n",
       "       1.36383081e-32, 1.35253417e-32, 1.28710512e-32, 1.16078103e-32,\n",
       "       1.12541302e-32, 1.06067841e-32])"
      ]
     },
     "execution_count": 201,
     "metadata": {},
     "output_type": "execute_result"
    }
   ],
   "source": [
    "pcs.explained_variance_ratio_"
   ]
  },
  {
   "cell_type": "code",
   "execution_count": 194,
   "metadata": {},
   "outputs": [
    {
     "data": {
      "text/plain": [
       "<matplotlib.collections.PathCollection at 0x7f020afd9d50>"
      ]
     },
     "execution_count": 194,
     "metadata": {},
     "output_type": "execute_result"
    },
    {
     "data": {
      "image/png": "[encoded data removed]",
      "text/plain": [
       "<Figure size 432x288 with 1 Axes>"
      ]
     },
     "metadata": {
      "needs_background": "light"
     },
     "output_type": "display_data"
    }
   ],
   "source": [
    "plt.scatter(pz[:,0],pz[:,1])"
   ]
  }
 ],
 "metadata": {
  "kernelspec": {
   "display_name": "Python 3",
   "language": "python",
   "name": "python3"
  },
  "language_info": {
   "codemirror_mode": {
    "name": "ipython",
    "version": 3
   },
   "file_extension": ".py",
   "mimetype": "text/x-python",
   "name": "python",
   "nbconvert_exporter": "python",
   "pygments_lexer": "ipython3",
   "version": "3.7.4"
  }
 },
 "nbformat": 4,
 "nbformat_minor": 4
}
