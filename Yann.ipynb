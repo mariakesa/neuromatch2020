{
 "cells": [
  {
   "cell_type": "code",
   "execution_count": 1,
   "metadata": {},
   "outputs": [],
   "source": [
    "#!pip install EnsemblePursuit\n",
    "from EnsemblePursuit.EnsemblePursuit import EnsemblePursuit\n",
    "import numpy as np\n",
    "import matplotlib.pyplot as plt\n",
    "%matplotlib inline\n",
    "from scipy.stats import zscore\n",
    "from scipy.ndimage import gaussian_filter, gaussian_filter1d\n",
    "from sklearn.preprocessing import MinMaxScaler"
   ]
  },
  {
   "cell_type": "code",
   "execution_count": 4,
   "metadata": {},
   "outputs": [
    {
     "name": "stdout",
     "output_type": "stream",
     "text": [
      "Shape of the data matrix, neurons by timepoints: (18795, 30766)\n",
      "(18795, 30560)\n"
     ]
    }
   ],
   "source": [
    "data_path='/media/maria/DATA1/Documents/data_for_suite2p/TX39_total/'\n",
    "dt=1\n",
    "spks= np.load(data_path+'spks.npy')\n",
    "print('Shape of the data matrix, neurons by timepoints:',spks.shape)\n",
    "iframe = np.load(data_path+'iframe.npy') # iframe[n] is the microscope frame for the image frame n\n",
    "ivalid = iframe+dt<spks.shape[-1] # remove timepoints outside the valid time range\n",
    "iframe = iframe[ivalid]\n",
    "S = spks[:, iframe+dt]\n",
    "print(S.shape)"
   ]
  },
  {
   "cell_type": "code",
   "execution_count": 6,
   "metadata": {},
   "outputs": [
    {
     "name": "stdout",
     "output_type": "stream",
     "text": [
      "(18795, 50)\n",
      "None\n",
      "(642,)\n"
     ]
    },
    {
     "data": {
      "text/plain": [
       "(array([ 26., 176., 218., 141.,  64.,  15.,   0.,   1.,   0.,   1.]),\n",
       " array([ 1.1378856 ,  3.49444619,  5.85100679,  8.20756738, 10.56412798,\n",
       "        12.92068857, 15.27724917, 17.63380976, 19.99037036, 22.34693095,\n",
       "        24.70349155]),\n",
       " <a list of 10 Patch objects>)"
      ]
     },
     "execution_count": 6,
     "metadata": {},
     "output_type": "execute_result"
    },
    {
     "data": {
      "image/png": "[encoded data removed]",
      "text/plain": [
       "<Figure size 432x288 with 1 Axes>"
      ]
     },
     "metadata": {
      "needs_background": "light"
     },
     "output_type": "display_data"
    }
   ],
   "source": [
    "#Select stim ensemble, make weights for stim ens\n",
    "U=np.load('U.npy')\n",
    "print(print(U.shape))\n",
    "stim_ens_inds=np.nonzero(U[:,13])[0]\n",
    "print(stim_ens_inds.shape)\n",
    "stim_k=7.5\n",
    "stim_theta=1.0\n",
    "stim_weights=np.random.gamma(shape=stim_k,scale=stim_theta,size=(stim_ens_inds.shape[0],))\n",
    "plt.hist(stim_weights)"
   ]
  },
  {
   "cell_type": "code",
   "execution_count": 7,
   "metadata": {},
   "outputs": [
    {
     "name": "stdout",
     "output_type": "stream",
     "text": [
      "(463,)\n"
     ]
    },
    {
     "data": {
      "text/plain": [
       "(array([228., 114.,  63.,  31.,  13.,   8.,   2.,   0.,   3.,   1.]),\n",
       " array([2.87081784e-03, 1.33743264e+00, 2.67199446e+00, 4.00655628e+00,\n",
       "        5.34111810e+00, 6.67567992e+00, 8.01024174e+00, 9.34480356e+00,\n",
       "        1.06793654e+01, 1.20139272e+01, 1.33484890e+01]),\n",
       " <a list of 10 Patch objects>)"
      ]
     },
     "execution_count": 7,
     "metadata": {},
     "output_type": "execute_result"
    },
    {
     "data": {
      "image/png": "[encoded data removed]",
      "text/plain": [
       "<Figure size 432x288 with 1 Axes>"
      ]
     },
     "metadata": {
      "needs_background": "light"
     },
     "output_type": "display_data"
    }
   ],
   "source": [
    "#Select beh ensemble, make weights for stim_ens\n",
    "beh_ens_inds=np.nonzero(U[:,8])[0]\n",
    "print(beh_ens_inds.shape)\n",
    "beh_k=1.0\n",
    "beh_theta=2.0\n",
    "beh_weights=np.random.gamma(shape=beh_k,scale=beh_theta,size=(beh_ens_inds.shape[0],))\n",
    "plt.hist(beh_weights)"
   ]
  },
  {
   "cell_type": "code",
   "execution_count": 8,
   "metadata": {},
   "outputs": [
    {
     "name": "stdout",
     "output_type": "stream",
     "text": [
      "(1105,)\n"
     ]
    }
   ],
   "source": [
    "weights=np.hstack((stim_weights,beh_weights))\n",
    "print(weights.shape)"
   ]
  },
  {
   "cell_type": "code",
   "execution_count": 9,
   "metadata": {},
   "outputs": [],
   "source": [
    "stim_inp=S[stim_ens_inds]\n",
    "beh_imp=S[beh_ens_inds]\n",
    "input_patterns=np.vstack((stim_inp,beh_imp))"
   ]
  },
  {
   "cell_type": "code",
   "execution_count": 10,
   "metadata": {},
   "outputs": [],
   "source": [
    "del spks"
   ]
  },
  {
   "cell_type": "code",
   "execution_count": 11,
   "metadata": {},
   "outputs": [],
   "source": [
    "del S"
   ]
  },
  {
   "cell_type": "code",
   "execution_count": 12,
   "metadata": {},
   "outputs": [
    {
     "name": "stdout",
     "output_type": "stream",
     "text": [
      "(1105, 30560)\n"
     ]
    }
   ],
   "source": [
    "print(input_patterns.shape)"
   ]
  },
  {
   "cell_type": "code",
   "execution_count": 109,
   "metadata": {},
   "outputs": [],
   "source": [
    "N_E=1\n",
    "\n",
    "r_0 = 1.0\n",
    "r_max = 100.0 #maybe should set to more realistic value (e.g. =20)?\n",
    "\n",
    "dt = .001\n",
    "\n",
    "alpha = 0.01\n",
    "BCM_lambda = 0.9\n",
    "\n",
    "theta_BCM = 1.0\n",
    "\n",
    "theta_BCM = np.ones(N_E)*1.0\n",
    "\n",
    "BCM_target = 2.0\n",
    "theta_BCM_dt = .001\n",
    "\n",
    "W_max = 1.0\n",
    "\n",
    "def update_theta_BCM(x,theta_BCM):\n",
    "    x_arr = x.reshape(x.size,)\n",
    "    theta_BCM += theta_BCM_dt*((x_arr[:N_E]/BCM_target)*x_arr[:N_E] - theta_BCM)\n",
    "\n",
    "    return theta_BCM\n",
    "\n",
    "def update_weights(_x,_W,_theta_BCM,input_patterns):\n",
    "\n",
    "    _W[:N_E] += alpha*_x*np.dot(input_patterns,(input_patterns-_theta_BCM))\n",
    "\n",
    "    # bounding weights to be positive\n",
    "    _W[:N_E] = _W[:N_E]*(0.5 * (np.sign(_W[:N_E]) + 1))\n",
    "\n",
    "    # bounding weights below max value\n",
    "    _W[_W>W_max] = W_max\n",
    "    \n",
    "    print('W',_W)\n",
    "    # no self-connections\n",
    "    #np.fill_diagonal(_W,0.0)\n",
    "    return W\n",
    "\n",
    "def update_state_sliding_threshold(x,W,H,theta_BCM,input_patterns):\n",
    "    H=0\n",
    "    print(W)\n",
    "    print(input_patterns)\n",
    "    print(np.dot(W,input_patterns))\n",
    "    x += dt*(-1*x + np.dot(W,input_patterns) + H)\n",
    "\n",
    "    # only allow positive firing rates\n",
    "    x = x*(0.5 * (np.sign(x) + 1))\n",
    "\n",
    "    W = update_weights(x,W,theta_BCM,input_patterns)\n",
    "\n",
    "    theta_BCM = update_theta_BCM(x,theta_BCM)\n",
    "\n",
    "    return x,W,theta_BCM\n",
    "\n",
    "def update_rates(x):\n",
    "    #rates = x\n",
    "    x[x<=0] = r_0*np.tanh(x[x<=0]/r_0)\n",
    "    x[x>0] = (r_max-r_0)*np.tanh(x[x>0]/(r_max-r_0))\n",
    "\n",
    "    return x\n",
    "\n",
    "def update_state(x,W,input_patterns,BCM):\n",
    "    H=0\n",
    "    x += dt*(-1*x + np.dot(W,input_patterns))\n",
    "    #x += dt*(-1*x +W*update_rates(x) + H)\n",
    "    # only allow positive firing rates\n",
    "    x = x*(0.5 * (np.sign(x) + 1))\n",
    "\n",
    "    W = update_weights(x,W,BCM,input_patterns)\n",
    "\n",
    "    return x,W"
   ]
  },
  {
   "cell_type": "code",
   "execution_count": 110,
   "metadata": {},
   "outputs": [],
   "source": [
    "def run_net_plastic(x,W,input_patterns,T=1000,N_sample=N_E):\n",
    "    pop_rate = []\n",
    "    theta_BCM=1.0\n",
    "    #ext_OU = prep_net_run(T)\n",
    "    T=100\n",
    "\n",
    "    for i in range(T):\n",
    "        H=0\n",
    "        #H_noisy = H+ext_OU[i]+OU_drive[i]\n",
    "        H_noisy=0\n",
    "        x,W = update_state(x,W,input_patterns[:,i],theta_BCM)\n",
    "        print(x)\n",
    "\n",
    "        x,W,theta_BCM = update_state_sliding_threshold(x,W,H,theta_BCM,input_patterns)\n"
   ]
  },
  {
   "cell_type": "code",
   "execution_count": 107,
   "metadata": {},
   "outputs": [
    {
     "name": "stdout",
     "output_type": "stream",
     "text": [
      "(1105,)\n",
      "(1105, 30560)\n",
      "[49593.25927913 49735.77287415 47560.94275578 ... 24527.45925243\n",
      " 39441.28395279 21963.39076373]\n",
      "[49.59325928]\n",
      "None\n",
      "[[  34.19176    740.78375    738.2173    ...    0.           0.\n",
      "     0.       ]\n",
      " [  37.413887    36.545643   375.73035   ...    2.2846625    0.\n",
      "     0.       ]\n",
      " [  64.83908      0.           0.        ... 1362.1385     670.392\n",
      "   370.91995  ]\n",
      " ...\n",
      " [   0.           0.           0.        ...    0.           0.\n",
      "     0.       ]\n",
      " [  16.559952     0.           0.        ...    0.           5.1093636\n",
      "     0.       ]\n",
      " [   0.          13.184659     0.        ...    0.          22.028135\n",
      "    20.791363 ]]\n"
     ]
    },
    {
     "ename": "TypeError",
     "evalue": "unsupported operand type(s) for *: 'NoneType' and 'float'",
     "output_type": "error",
     "traceback": [
      "\u001b[0;31m---------------------------------------------------------------------------\u001b[0m",
      "\u001b[0;31mTypeError\u001b[0m                                 Traceback (most recent call last)",
      "\u001b[0;32m<ipython-input-107-7e6a591a19a2>\u001b[0m in \u001b[0;36m<module>\u001b[0;34m\u001b[0m\n\u001b[1;32m      4\u001b[0m \u001b[0mprint\u001b[0m\u001b[0;34m(\u001b[0m\u001b[0minput_patterns\u001b[0m\u001b[0;34m.\u001b[0m\u001b[0mshape\u001b[0m\u001b[0;34m)\u001b[0m\u001b[0;34m\u001b[0m\u001b[0;34m\u001b[0m\u001b[0m\n\u001b[1;32m      5\u001b[0m \u001b[0mprint\u001b[0m\u001b[0;34m(\u001b[0m\u001b[0mnp\u001b[0m\u001b[0;34m.\u001b[0m\u001b[0mdot\u001b[0m\u001b[0;34m(\u001b[0m\u001b[0mW\u001b[0m\u001b[0;34m,\u001b[0m\u001b[0minput_patterns\u001b[0m\u001b[0;34m)\u001b[0m\u001b[0;34m)\u001b[0m\u001b[0;34m\u001b[0m\u001b[0;34m\u001b[0m\u001b[0m\n\u001b[0;32m----> 6\u001b[0;31m \u001b[0mrun_net_plastic\u001b[0m\u001b[0;34m(\u001b[0m\u001b[0mx\u001b[0m\u001b[0;34m,\u001b[0m\u001b[0mW\u001b[0m\u001b[0;34m,\u001b[0m\u001b[0minput_patterns\u001b[0m\u001b[0;34m)\u001b[0m\u001b[0;34m\u001b[0m\u001b[0;34m\u001b[0m\u001b[0m\n\u001b[0m",
      "\u001b[0;32m<ipython-input-106-517c22ccf554>\u001b[0m in \u001b[0;36mrun_net_plastic\u001b[0;34m(x, W, input_patterns, T, N_sample)\u001b[0m\n\u001b[1;32m     12\u001b[0m         \u001b[0mprint\u001b[0m\u001b[0;34m(\u001b[0m\u001b[0mx\u001b[0m\u001b[0;34m)\u001b[0m\u001b[0;34m\u001b[0m\u001b[0;34m\u001b[0m\u001b[0m\n\u001b[1;32m     13\u001b[0m \u001b[0;34m\u001b[0m\u001b[0m\n\u001b[0;32m---> 14\u001b[0;31m         \u001b[0mx\u001b[0m\u001b[0;34m,\u001b[0m\u001b[0mW\u001b[0m\u001b[0;34m,\u001b[0m\u001b[0mtheta_BCM\u001b[0m \u001b[0;34m=\u001b[0m \u001b[0mupdate_state_sliding_threshold\u001b[0m\u001b[0;34m(\u001b[0m\u001b[0mx\u001b[0m\u001b[0;34m,\u001b[0m\u001b[0mW\u001b[0m\u001b[0;34m,\u001b[0m\u001b[0mH\u001b[0m\u001b[0;34m,\u001b[0m\u001b[0mtheta_BCM\u001b[0m\u001b[0;34m,\u001b[0m\u001b[0minput_patterns\u001b[0m\u001b[0;34m)\u001b[0m\u001b[0;34m\u001b[0m\u001b[0;34m\u001b[0m\u001b[0m\n\u001b[0m",
      "\u001b[0;32m<ipython-input-105-415231dfd400>\u001b[0m in \u001b[0;36mupdate_state_sliding_threshold\u001b[0;34m(x, W, H, theta_BCM, input_patterns)\u001b[0m\n\u001b[1;32m     41\u001b[0m     \u001b[0mprint\u001b[0m\u001b[0;34m(\u001b[0m\u001b[0mW\u001b[0m\u001b[0;34m)\u001b[0m\u001b[0;34m\u001b[0m\u001b[0;34m\u001b[0m\u001b[0m\n\u001b[1;32m     42\u001b[0m     \u001b[0mprint\u001b[0m\u001b[0;34m(\u001b[0m\u001b[0minput_patterns\u001b[0m\u001b[0;34m)\u001b[0m\u001b[0;34m\u001b[0m\u001b[0;34m\u001b[0m\u001b[0m\n\u001b[0;32m---> 43\u001b[0;31m     \u001b[0mprint\u001b[0m\u001b[0;34m(\u001b[0m\u001b[0mnp\u001b[0m\u001b[0;34m.\u001b[0m\u001b[0mdot\u001b[0m\u001b[0;34m(\u001b[0m\u001b[0mW\u001b[0m\u001b[0;34m,\u001b[0m\u001b[0minput_patterns\u001b[0m\u001b[0;34m)\u001b[0m\u001b[0;34m)\u001b[0m\u001b[0;34m\u001b[0m\u001b[0;34m\u001b[0m\u001b[0m\n\u001b[0m\u001b[1;32m     44\u001b[0m     \u001b[0mx\u001b[0m \u001b[0;34m+=\u001b[0m \u001b[0mdt\u001b[0m\u001b[0;34m*\u001b[0m\u001b[0;34m(\u001b[0m\u001b[0;34m-\u001b[0m\u001b[0;36m1\u001b[0m\u001b[0;34m*\u001b[0m\u001b[0mx\u001b[0m \u001b[0;34m+\u001b[0m \u001b[0mnp\u001b[0m\u001b[0;34m.\u001b[0m\u001b[0mdot\u001b[0m\u001b[0;34m(\u001b[0m\u001b[0mW\u001b[0m\u001b[0;34m,\u001b[0m\u001b[0minput_patterns\u001b[0m\u001b[0;34m)\u001b[0m \u001b[0;34m+\u001b[0m \u001b[0mH\u001b[0m\u001b[0;34m)\u001b[0m\u001b[0;34m\u001b[0m\u001b[0;34m\u001b[0m\u001b[0m\n\u001b[1;32m     45\u001b[0m \u001b[0;34m\u001b[0m\u001b[0m\n",
      "\u001b[0;32m<__array_function__ internals>\u001b[0m in \u001b[0;36mdot\u001b[0;34m(*args, **kwargs)\u001b[0m\n",
      "\u001b[0;31mTypeError\u001b[0m: unsupported operand type(s) for *: 'NoneType' and 'float'"
     ]
    }
   ],
   "source": [
    "x=np.zeros((1,))\n",
    "W=weights\n",
    "print(W.shape)\n",
    "print(input_patterns.shape)\n",
    "print(np.dot(W,input_patterns))\n",
    "run_net_plastic(x,W,input_patterns)"
   ]
  }
 ],
 "metadata": {
  "kernelspec": {
   "display_name": "Python 3",
   "language": "python",
   "name": "python3"
  },
  "language_info": {
   "codemirror_mode": {
    "name": "ipython",
    "version": 3
   },
   "file_extension": ".py",
   "mimetype": "text/x-python",
   "name": "python",
   "nbconvert_exporter": "python",
   "pygments_lexer": "ipython3",
   "version": "3.7.4"
  }
 },
 "nbformat": 4,
 "nbformat_minor": 4
}
