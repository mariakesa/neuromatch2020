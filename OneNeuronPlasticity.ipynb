{
 "cells": [
  {
   "cell_type": "code",
   "execution_count": 15,
   "metadata": {},
   "outputs": [],
   "source": [
    "#!pip install EnsemblePursuit\n",
    "from EnsemblePursuit.EnsemblePursuit import EnsemblePursuit\n",
    "import numpy as np\n",
    "import matplotlib.pyplot as plt\n",
    "%matplotlib inline\n",
    "from scipy.stats import zscore\n",
    "from scipy.ndimage import gaussian_filter, gaussian_filter1d\n",
    "from sklearn.preprocessing import MinMaxScaler"
   ]
  },
  {
   "cell_type": "code",
   "execution_count": 4,
   "metadata": {},
   "outputs": [
    {
     "name": "stdout",
     "output_type": "stream",
     "text": [
      "Shape of the data matrix, neurons by timepoints: (18795, 30766)\n",
      "(18795, 30560)\n"
     ]
    }
   ],
   "source": [
    "data_path='/media/maria/DATA1/Documents/data_for_suite2p/TX39/'\n",
    "dt=1\n",
    "spks= np.load(data_path+'spks.npy')\n",
    "print('Shape of the data matrix, neurons by timepoints:',spks.shape)\n",
    "iframe = np.load(data_path+'iframe.npy') # iframe[n] is the microscope frame for the image frame n\n",
    "ivalid = iframe+dt<spks.shape[-1] # remove timepoints outside the valid time range\n",
    "iframe = iframe[ivalid]\n",
    "S = spks[:, iframe+dt]\n",
    "print(S.shape)\n",
    "#Uncomment to compute U and V\n",
    "#ep=EnsemblePursuit(n_components=50,lam=0.01,n_kmeans=50)\n",
    "#model=ep.fit(S.T[:10000,:])\n",
    "#V=model.components_\n",
    "#U=model.weights\n",
    "#np.save('U.npy',U)"
   ]
  },
  {
   "cell_type": "code",
   "execution_count": 5,
   "metadata": {},
   "outputs": [],
   "source": [
    "U=np.load('U.npy')"
   ]
  },
  {
   "cell_type": "code",
   "execution_count": 21,
   "metadata": {},
   "outputs": [
    {
     "name": "stdout",
     "output_type": "stream",
     "text": [
      "5689.182\n",
      "(30560,)\n"
     ]
    }
   ],
   "source": [
    "stim_ens_ind=np.nonzero(U[:,13])[0][0]\n",
    "print(S.max())\n",
    "stim_inp=S[stim_ens_ind]\n",
    "print(stim_inp.shape)\n",
    "scaler=MinMaxScaler()\n",
    "stim_inp=scaler.fit_transform(stim_inp.reshape(-1,1))"
   ]
  },
  {
   "cell_type": "code",
   "execution_count": 68,
   "metadata": {},
   "outputs": [
    {
     "name": "stdout",
     "output_type": "stream",
     "text": [
      "[[0.01597081]\n",
      " [0.34601653]\n",
      " [0.34481776]\n",
      " ...\n",
      " [0.        ]\n",
      " [0.        ]\n",
      " [0.        ]]\n",
      "(1, 0)\n"
     ]
    },
    {
     "ename": "ValueError",
     "evalue": "can only convert an array of size 1 to a Python scalar",
     "output_type": "error",
     "traceback": [
      "\u001b[0;31m---------------------------------------------------------------------------\u001b[0m",
      "\u001b[0;31mValueError\u001b[0m                                Traceback (most recent call last)",
      "\u001b[0;32m<ipython-input-68-09dafb2be2f4>\u001b[0m in \u001b[0;36m<module>\u001b[0;34m\u001b[0m\n\u001b[1;32m     37\u001b[0m     \u001b[0mdxdt\u001b[0m\u001b[0;34m=\u001b[0m\u001b[0;34m(\u001b[0m\u001b[0;34m-\u001b[0m\u001b[0mrate\u001b[0m\u001b[0;34m[\u001b[0m\u001b[0;34m-\u001b[0m\u001b[0;36m1\u001b[0m\u001b[0;34m]\u001b[0m\u001b[0;34m+\u001b[0m\u001b[0mgain_function\u001b[0m\u001b[0;34m(\u001b[0m\u001b[0minpt\u001b[0m\u001b[0;34m)\u001b[0m\u001b[0;34m)\u001b[0m\u001b[0;34m.\u001b[0m\u001b[0mitem\u001b[0m\u001b[0;34m(\u001b[0m\u001b[0;34m)\u001b[0m\u001b[0;34m\u001b[0m\u001b[0;34m\u001b[0m\u001b[0m\n\u001b[1;32m     38\u001b[0m     \u001b[0mrate\u001b[0m\u001b[0;34m.\u001b[0m\u001b[0mappend\u001b[0m\u001b[0;34m(\u001b[0m\u001b[0mrate\u001b[0m\u001b[0;34m[\u001b[0m\u001b[0;34m-\u001b[0m\u001b[0;36m1\u001b[0m\u001b[0;34m]\u001b[0m\u001b[0;34m+\u001b[0m\u001b[0mh\u001b[0m\u001b[0;34m*\u001b[0m\u001b[0mdxdt\u001b[0m\u001b[0;34m)\u001b[0m\u001b[0;34m\u001b[0m\u001b[0;34m\u001b[0m\u001b[0m\n\u001b[0;32m---> 39\u001b[0;31m     \u001b[0mweight\u001b[0m\u001b[0;34m=\u001b[0m\u001b[0mupdate_weights\u001b[0m\u001b[0;34m(\u001b[0m\u001b[0mactivity_patterns\u001b[0m\u001b[0;34m.\u001b[0m\u001b[0mflatten\u001b[0m\u001b[0;34m(\u001b[0m\u001b[0;34m)\u001b[0m\u001b[0;34m[\u001b[0m\u001b[0mt\u001b[0m\u001b[0;34m]\u001b[0m\u001b[0;34m,\u001b[0m\u001b[0mrate\u001b[0m\u001b[0;34m[\u001b[0m\u001b[0;34m-\u001b[0m\u001b[0;36m1\u001b[0m\u001b[0;34m]\u001b[0m\u001b[0;34m,\u001b[0m\u001b[0mweights\u001b[0m\u001b[0;34m,\u001b[0m\u001b[0mtheta_BCM\u001b[0m\u001b[0;34m)\u001b[0m\u001b[0;34m\u001b[0m\u001b[0;34m\u001b[0m\u001b[0m\n\u001b[0m\u001b[1;32m     40\u001b[0m     \u001b[0mtheta_BCM\u001b[0m\u001b[0;34m=\u001b[0m\u001b[0mupdate_BCM_threshold\u001b[0m\u001b[0;34m(\u001b[0m\u001b[0mtheta_BCM\u001b[0m\u001b[0;34m,\u001b[0m\u001b[0mrate\u001b[0m\u001b[0;34m[\u001b[0m\u001b[0;34m-\u001b[0m\u001b[0;36m1\u001b[0m\u001b[0;34m]\u001b[0m\u001b[0;34m)\u001b[0m\u001b[0;34m\u001b[0m\u001b[0;34m\u001b[0m\u001b[0m\n\u001b[1;32m     41\u001b[0m \u001b[0;31m#print(rate)\u001b[0m\u001b[0;34m\u001b[0m\u001b[0;34m\u001b[0m\u001b[0;34m\u001b[0m\u001b[0m\n",
      "\u001b[0;32m<ipython-input-68-09dafb2be2f4>\u001b[0m in \u001b[0;36mupdate_weights\u001b[0;34m(pre_syn_activity_pattern, post_syn_activity_pattern, W, theta_BCM)\u001b[0m\n\u001b[1;32m     13\u001b[0m     \u001b[0;31m#print('syn',pre_syn_activity_pattern.reshape(9479,1)@post_syn_activity_pattern.reshape(1,2))\u001b[0m\u001b[0;34m\u001b[0m\u001b[0;34m\u001b[0m\u001b[0;34m\u001b[0m\u001b[0m\n\u001b[1;32m     14\u001b[0m     \u001b[0mW\u001b[0m\u001b[0;34m+=\u001b[0m \u001b[0malpha\u001b[0m\u001b[0;34m*\u001b[0m\u001b[0mpre_syn_activity_pattern\u001b[0m\u001b[0;34m*\u001b[0m\u001b[0mpost_syn_activity_pattern\u001b[0m\u001b[0;34m*\u001b[0m\u001b[0;34m(\u001b[0m\u001b[0mpost_syn_activity_pattern\u001b[0m\u001b[0;34m-\u001b[0m\u001b[0mtheta_BCM\u001b[0m\u001b[0;34m)\u001b[0m\u001b[0;34m\u001b[0m\u001b[0;34m\u001b[0m\u001b[0m\n\u001b[0;32m---> 15\u001b[0;31m     \u001b[0mW\u001b[0m\u001b[0;34m=\u001b[0m\u001b[0mW\u001b[0m\u001b[0;34m.\u001b[0m\u001b[0mitem\u001b[0m\u001b[0;34m(\u001b[0m\u001b[0;34m)\u001b[0m\u001b[0;34m\u001b[0m\u001b[0;34m\u001b[0m\u001b[0m\n\u001b[0m\u001b[1;32m     16\u001b[0m     \u001b[0mprint\u001b[0m\u001b[0;34m(\u001b[0m\u001b[0mW\u001b[0m\u001b[0;34m.\u001b[0m\u001b[0mshape\u001b[0m\u001b[0;34m)\u001b[0m\u001b[0;34m\u001b[0m\u001b[0;34m\u001b[0m\u001b[0m\n\u001b[1;32m     17\u001b[0m     \u001b[0;32mreturn\u001b[0m \u001b[0mW\u001b[0m\u001b[0;34m\u001b[0m\u001b[0;34m\u001b[0m\u001b[0m\n",
      "\u001b[0;31mValueError\u001b[0m: can only convert an array of size 1 to a Python scalar"
     ]
    }
   ],
   "source": [
    "def gain_function(x):\n",
    "        #x=np.array(x)\n",
    "        #x[x<0]= 0.5*np.tanh(x[x<0]/0.5)\n",
    "        if x<0:\n",
    "            return 0.5*np.tanh(x/0.5)\n",
    "        else:\n",
    "            return (1-5)*np.tanh(x/(1.0-0.5))\n",
    "        #x[x>=0]=(1.0-0.5)*np.tanh(x[x>=0]/(1.0-0.5))\n",
    "        return x\n",
    "    \n",
    "def update_weights(pre_syn_activity_pattern,post_syn_activity_pattern,W,theta_BCM):\n",
    "    alpha = 0.01\n",
    "    #print('syn',pre_syn_activity_pattern.reshape(9479,1)@post_syn_activity_pattern.reshape(1,2))\n",
    "    W+= alpha*pre_syn_activity_pattern*post_syn_activity_pattern*(post_syn_activity_pattern-theta_BCM)\n",
    "    W=W.item()\n",
    "    print(W.shape)\n",
    "    return W\n",
    "def update_BCM_threshold(theta_BCM,activity_pattern):\n",
    "    theta_BCM_dt = .01\n",
    "    BCM_target = 0.6\n",
    "    theta_BCM += theta_BCM_dt*((activity_pattern/BCM_target)*activity_pattern - theta_BCM)\n",
    "    return theta_BCM\n",
    "\n",
    "activity_patterns=stim_inp\n",
    "print(activity_patterns)\n",
    "#plt.plot(activity_patterns)\n",
    "weight=1.0\n",
    "\n",
    "print(weights.shape)\n",
    "theta_BCM = 1000.0\n",
    "rate=[0]\n",
    "h=0.01\n",
    "for t in range(0,10000):\n",
    "    #print(activity_patterns[t])\n",
    "    inpt=weight*activity_patterns[t]\n",
    "    #print(inpt)\n",
    "    dxdt=(-rate[-1]+gain_function(inpt)).item()\n",
    "    rate.append(rate[-1]+h*dxdt)\n",
    "    weight=update_weights(activity_patterns.flatten()[t],rate[-1],weight,theta_BCM)\n",
    "    theta_BCM=update_BCM_threshold(theta_BCM,rate[-1])\n",
    "#print(rate)\n",
    "plt.plot(rate)\n",
    "plt.plot(weight)"
   ]
  }
 ],
 "metadata": {
  "kernelspec": {
   "display_name": "Python 3",
   "language": "python",
   "name": "python3"
  },
  "language_info": {
   "codemirror_mode": {
    "name": "ipython",
    "version": 3
   },
   "file_extension": ".py",
   "mimetype": "text/x-python",
   "name": "python",
   "nbconvert_exporter": "python",
   "pygments_lexer": "ipython3",
   "version": "3.7.4"
  }
 },
 "nbformat": 4,
 "nbformat_minor": 2
}
