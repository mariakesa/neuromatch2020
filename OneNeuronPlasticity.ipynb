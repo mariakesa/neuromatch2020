{
 "cells": [
  {
   "cell_type": "code",
   "execution_count": 15,
   "metadata": {},
   "outputs": [],
   "source": [
    "#!pip install EnsemblePursuit\n",
    "from EnsemblePursuit.EnsemblePursuit import EnsemblePursuit\n",
    "import numpy as np\n",
    "import matplotlib.pyplot as plt\n",
    "%matplotlib inline\n",
    "from scipy.stats import zscore\n",
    "from scipy.ndimage import gaussian_filter, gaussian_filter1d\n",
    "from sklearn.preprocessing import MinMaxScaler"
   ]
  },
  {
   "cell_type": "code",
   "execution_count": 4,
   "metadata": {},
   "outputs": [
    {
     "name": "stdout",
     "output_type": "stream",
     "text": [
      "Shape of the data matrix, neurons by timepoints: (18795, 30766)\n",
      "(18795, 30560)\n"
     ]
    }
   ],
   "source": [
    "data_path='/media/maria/DATA1/Documents/data_for_suite2p/TX39/'\n",
    "dt=1\n",
    "spks= np.load(data_path+'spks.npy')\n",
    "print('Shape of the data matrix, neurons by timepoints:',spks.shape)\n",
    "iframe = np.load(data_path+'iframe.npy') # iframe[n] is the microscope frame for the image frame n\n",
    "ivalid = iframe+dt<spks.shape[-1] # remove timepoints outside the valid time range\n",
    "iframe = iframe[ivalid]\n",
    "S = spks[:, iframe+dt]\n",
    "print(S.shape)\n",
    "#Uncomment to compute U and V\n",
    "#ep=EnsemblePursuit(n_components=50,lam=0.01,n_kmeans=50)\n",
    "#model=ep.fit(S.T[:10000,:])\n",
    "#V=model.components_\n",
    "#U=model.weights\n",
    "#np.save('U.npy',U)"
   ]
  },
  {
   "cell_type": "code",
   "execution_count": 5,
   "metadata": {},
   "outputs": [],
   "source": [
    "U=np.load('U.npy')"
   ]
  },
  {
   "cell_type": "code",
   "execution_count": 21,
   "metadata": {},
   "outputs": [
    {
     "name": "stdout",
     "output_type": "stream",
     "text": [
      "5689.182\n",
      "(30560,)\n"
     ]
    }
   ],
   "source": [
    "stim_ens_ind=np.nonzero(U[:,13])[0][0]\n",
    "print(S.max())\n",
    "stim_inp=S[stim_ens_ind]\n",
    "print(stim_inp.shape)\n",
    "scaler=MinMaxScaler()\n",
    "stim_inp=scaler.fit_transform(stim_inp.reshape(-1,1))"
   ]
  },
  {
   "cell_type": "code",
   "execution_count": 58,
   "metadata": {},
   "outputs": [
    {
     "name": "stdout",
     "output_type": "stream",
     "text": [
      "[[0.01597081]\n",
      " [0.34601653]\n",
      " [0.34481776]\n",
      " ...\n",
      " [0.        ]\n",
      " [0.        ]\n",
      " [0.        ]]\n",
      "(1, 0)\n",
      "[0.01597081]\n",
      "[0.34601653]\n",
      "[0.34481776]\n",
      "[0.18953711]\n",
      "[0.17947061]\n",
      "[0.11090592]\n",
      "[0.31532148]\n",
      "[0.09752194]\n",
      "[0.08408416]\n",
      "[0.]\n",
      "[0, array([-0.00127723], dtype=float32), array([-0.02523592], dtype=float32), array([-0.04889347], dtype=float32), array([-0.06288067], dtype=float32), array([-0.0760231], dtype=float32), array([-0.08399265], dtype=float32), array([-0.10549251], dtype=float32), array([-0.11214189], dtype=float32), array([-0.11768451], dtype=float32), array([-0.11650766], dtype=float32)]\n"
     ]
    },
    {
     "data": {
      "text/plain": [
       "[<matplotlib.lines.Line2D at 0x7f92b3839250>]"
      ]
     },
     "execution_count": 58,
     "metadata": {},
     "output_type": "execute_result"
    },
    {
     "data": {
      "image/png": "[encoded data removed]",
      "text/plain": [
       "<Figure size 432x288 with 1 Axes>"
      ]
     },
     "metadata": {
      "needs_background": "light"
     },
     "output_type": "display_data"
    }
   ],
   "source": [
    "def gain_function(x):\n",
    "        #x=np.array(x)\n",
    "        #x[x<0]= 0.5*np.tanh(x[x<0]/0.5)\n",
    "        if x<0:\n",
    "            return 0.5*np.tanh(x/0.5)\n",
    "        else:\n",
    "            return (1-5)*np.tanh(x/(1.0-0.5))\n",
    "        #x[x>=0]=(1.0-0.5)*np.tanh(x[x>=0]/(1.0-0.5))\n",
    "        return x\n",
    "    \n",
    "def update_weights(pre_syn_activity_pattern,post_syn_activity_pattern,W,theta_BCM):\n",
    "    alpha = 0.01\n",
    "    #print('syn',pre_syn_activity_pattern.reshape(9479,1)@post_syn_activity_pattern.reshape(1,2))\n",
    "    W+= alpha*pre_syn_activity_pattern*post_syn_activity_pattern*(post_syn_activity_pattern-theta_BCM)\n",
    "    return W\n",
    "def update_BCM_threshold(theta_BCM,activity_pattern):\n",
    "    theta_BCM_dt = .01\n",
    "    BCM_target = 0.6\n",
    "    theta_BCM += theta_BCM_dt*((activity_pattern/BCM_target)*activity_pattern - theta_BCM)\n",
    "    return theta_BCM\n",
    "\n",
    "activity_patterns=stim_inp\n",
    "print(activity_patterns)\n",
    "#plt.plot(activity_patterns)\n",
    "weight=1.0\n",
    "\n",
    "print(weights.shape)\n",
    "theta_BCM = 1000.0\n",
    "rate=[0]\n",
    "h=0.01\n",
    "for t in range(0,10):\n",
    "    #print(activity_patterns[t])\n",
    "    inpt=weight*activity_patterns[t]\n",
    "    print(inpt)\n",
    "    dxdt=(-rate[-1]+gain_function(inpt))\n",
    "    #print(dxdt)\n",
    "    rate.append(rate[-1]+h*dxdt)\n",
    "    weights=update_weights(activity_patterns.flatten()[t],rate[-1],weights,theta_BCM)\n",
    "    theta_BCM=update_BCM_threshold(theta_BCM,rate[-1])\n",
    "print(rate)\n",
    "plt.plot(rate)"
   ]
  }
 ],
 "metadata": {
  "kernelspec": {
   "display_name": "Python 3",
   "language": "python",
   "name": "python3"
  },
  "language_info": {
   "codemirror_mode": {
    "name": "ipython",
    "version": 3
   },
   "file_extension": ".py",
   "mimetype": "text/x-python",
   "name": "python",
   "nbconvert_exporter": "python",
   "pygments_lexer": "ipython3",
   "version": "3.7.4"
  }
 },
 "nbformat": 4,
 "nbformat_minor": 2
}
